{
 "cells": [
  {
   "cell_type": "code",
   "execution_count": 77,
   "metadata": {},
   "outputs": [],
   "source": [
    "import pandas as pd \n",
    "import numpy as np \n",
    "import os \n",
    "import re \n",
    "import sys \n",
    "import json\n",
    "import ast"
   ]
  },
  {
   "cell_type": "code",
   "execution_count": 78,
   "metadata": {},
   "outputs": [],
   "source": [
    "import matplotlib.pyplot as plt \n",
    "import seaborn as sns "
   ]
  },
  {
   "cell_type": "code",
   "execution_count": 79,
   "metadata": {},
   "outputs": [],
   "source": [
    "def set_paper_style():\n",
    "    sns.set_theme(style=\"white\")\n",
    "    # plt.subplots(figsize=(22, 12))\n",
    "    plt.rcParams['font.family'] = 'serif'\n",
    "    plt.rcParams['font.size'] = 24\n",
    "    plt.rcParams['pdf.fonttype'] = 42\n",
    "    plt.rcParams['ps.fonttype'] = 42\n",
    "    plt.rcParams['axes.labelsize'] = 28\n",
    "    plt.rcParams['axes.labelweight'] = 'bold'\n",
    "    plt.rcParams['axes.titlesize'] = 15\n",
    "    plt.rcParams['axes.linewidth'] = 3\n",
    "    plt.rcParams['xtick.labelsize'] = 28\n",
    "    plt.rcParams['ytick.labelsize'] = 28\n",
    "    plt.rcParams['legend.fontsize'] = 26\n",
    "    plt.rcParams['figure.titlesize'] = 28\n",
    "    plt.rcParams['lines.linewidth'] = 5.0\n",
    "    plt.rcParams.update({'figure.max_open_warning': 0})\n",
    "    plt.rcParams['ps.useafm'] = True\n",
    "    plt.rcParams['pdf.use14corefonts'] = True\n",
    "\n",
    "set_paper_style()"
   ]
  },
  {
   "cell_type": "code",
   "execution_count": 80,
   "metadata": {},
   "outputs": [],
   "source": [
    "data_dir = \"/\".join(os.getcwd().split(\"/\")[:-2]) + \"/data/conv-trs/\""
   ]
  },
  {
   "cell_type": "code",
   "execution_count": 81,
   "metadata": {},
   "outputs": [
    {
     "name": "stdout",
     "output_type": "stream",
     "text": [
      "/Users/adithisatish/TUM/Academics/thesis/travel-crs/data/conv-trs/multi-agent/results/\n"
     ]
    }
   ],
   "source": [
    "results_dir = data_dir + \"multi-agent/results/\"\n",
    "print(results_dir)"
   ]
  },
  {
   "cell_type": "code",
   "execution_count": 124,
   "metadata": {},
   "outputs": [],
   "source": [
    "sasi = pd.read_csv(f\"{results_dir}sasi_results.csv\")"
   ]
  },
  {
   "cell_type": "code",
   "execution_count": 125,
   "metadata": {},
   "outputs": [],
   "source": [
    "sasi_gemini = sasi[['config_id', 'config', 'query', 'response_Claude3Point7Sonnet']]"
   ]
  },
  {
   "cell_type": "code",
   "execution_count": 126,
   "metadata": {},
   "outputs": [],
   "source": [
    "mami_results = [] \n",
    "mami_dir = f\"{results_dir}prototype_prop_filter_based_score_init_false/claude3point7sonnet/states/\"\n",
    "rounds=10\n",
    "\n",
    "for file in os.listdir(mami_dir):\n",
    "    config_id = (file.split(\"states_\")[1]).split(\".json\")[0]\n",
    "    \n",
    "    with open(f\"{mami_dir}{file}\", \"r\") as f: \n",
    "        data = json.load(f)\n",
    "\n",
    "    final_offer = data[str(rounds-1)][\"collective\"][\"offers\"]\n",
    "    final_city_scores = data[str(rounds-1)][\"collective\"][\"city_scores\"]\n",
    "\n",
    "    initial_offer = data[\"0\"][\"collective\"][\"offers\"]\n",
    "    initial_city_scores = data[\"0\"][\"collective\"][\"city_scores\"]\n",
    "\n",
    "    mami_results.append({\n",
    "        \"config_id\": config_id, \n",
    "        \"response_mami\": final_offer, \n",
    "        \"city_scores_mami\": final_city_scores, \n",
    "        \"response_masi\": initial_offer, \n",
    "        \"city_scores_masi\": initial_city_scores\n",
    "    })"
   ]
  },
  {
   "cell_type": "code",
   "execution_count": 127,
   "metadata": {},
   "outputs": [
    {
     "data": {
      "text/html": [
       "<div>\n",
       "<style scoped>\n",
       "    .dataframe tbody tr th:only-of-type {\n",
       "        vertical-align: middle;\n",
       "    }\n",
       "\n",
       "    .dataframe tbody tr th {\n",
       "        vertical-align: top;\n",
       "    }\n",
       "\n",
       "    .dataframe thead th {\n",
       "        text-align: right;\n",
       "    }\n",
       "</style>\n",
       "<table border=\"1\" class=\"dataframe\">\n",
       "  <thead>\n",
       "    <tr style=\"text-align: right;\">\n",
       "      <th></th>\n",
       "      <th>config_id</th>\n",
       "      <th>config</th>\n",
       "      <th>query</th>\n",
       "      <th>response_Claude3Point7Sonnet</th>\n",
       "      <th>response_mami</th>\n",
       "      <th>city_scores_mami</th>\n",
       "      <th>response_masi</th>\n",
       "      <th>city_scores_masi</th>\n",
       "    </tr>\n",
       "  </thead>\n",
       "  <tbody>\n",
       "    <tr>\n",
       "      <th>0</th>\n",
       "      <td>c_p_143_pop_high_hard</td>\n",
       "      <td>{'p_id': 'p_143', 'persona': 'A former printin...</td>\n",
       "      <td>\"Recommend European cities for a high-budget t...</td>\n",
       "      <td>['Paris', 'London', 'Berlin', 'Barcelona', 'Am...</td>\n",
       "      <td>[Paris, London, Berlin, Barcelona, Amsterdam, ...</td>\n",
       "      <td>{'Aalborg': 0.0, 'Adana': 0.0, 'Adiyaman': 0.0...</td>\n",
       "      <td>[Paris, London, Reykjavik, Berlin, Bergen, Vie...</td>\n",
       "      <td>{'Aalborg': 0.0, 'Adana': 0.0, 'Adiyaman': 0.0...</td>\n",
       "    </tr>\n",
       "    <tr>\n",
       "      <th>1</th>\n",
       "      <td>c_p_15_pop_high_hard</td>\n",
       "      <td>{'p_id': 'p_15', 'persona': 'A patient who see...</td>\n",
       "      <td>\"High budget European cities to visit in Decem...</td>\n",
       "      <td>['London', 'Paris', 'Vienna', 'Prague', 'Berli...</td>\n",
       "      <td>[Paris, Copenhagen, London, Vienna, Amsterdam,...</td>\n",
       "      <td>{'Aalborg': 0.0, 'Adana': 0.0, 'Adiyaman': 0.0...</td>\n",
       "      <td>[Paris, London, Copenhagen, Amsterdam, Reykjav...</td>\n",
       "      <td>{'Aalborg': 0.0, 'Adana': 0.0, 'Adiyaman': 0.0...</td>\n",
       "    </tr>\n",
       "    <tr>\n",
       "      <th>2</th>\n",
       "      <td>c_p_5_pop_high_hard</td>\n",
       "      <td>{'p_id': 'p_5', 'persona': 'an average Ukraini...</td>\n",
       "      <td>\"Popular and expensive European cities to visi...</td>\n",
       "      <td>['Geneva', 'Stockholm', 'Zurich', 'Copenhagen'...</td>\n",
       "      <td>[Geneva, Paris, London, Rome, Vienna, Amsterda...</td>\n",
       "      <td>{'Aalborg': 0.0, 'Adana': 0.0, 'Adiyaman': 0.0...</td>\n",
       "      <td>[London, Geneva, Reykjavik, Stockholm, Paris, ...</td>\n",
       "      <td>{'Aalborg': 0.0, 'Adana': 0.0, 'Adiyaman': 0.0...</td>\n",
       "    </tr>\n",
       "    <tr>\n",
       "      <th>3</th>\n",
       "      <td>c_p_155_pop_high_hard</td>\n",
       "      <td>{'p_id': 'p_155', 'persona': 'a digital transf...</td>\n",
       "      <td>\"European city breaks in September with high-e...</td>\n",
       "      <td>['Paris', 'Rome', 'London', 'Barcelona', 'Vien...</td>\n",
       "      <td>[London, Reykjavik, Paris, Copenhagen, Stockho...</td>\n",
       "      <td>{'Aalborg': 7.405424345486816e-08, 'Adana': 0....</td>\n",
       "      <td>[London, Reykjavik, Zurich, Bergen, Paris, Gen...</td>\n",
       "      <td>{'Aalborg': 0.08558979147214442, 'Adana': 0.0,...</td>\n",
       "    </tr>\n",
       "    <tr>\n",
       "      <th>4</th>\n",
       "      <td>c_p_116_pop_high_hard</td>\n",
       "      <td>{'p_id': 'p_116', 'persona': 'An entrepreneuri...</td>\n",
       "      <td>High budget European city breaks in October wi...</td>\n",
       "      <td>['Barcelona', 'Rome', 'Paris', 'Istanbul', 'Ma...</td>\n",
       "      <td>[Zurich, Paris, Copenhagen, London, Vienna, St...</td>\n",
       "      <td>{'Aalborg': 0.0, 'Adana': 0.0, 'Adiyaman': 0.0...</td>\n",
       "      <td>[Zurich, Paris, Copenhagen, Vienna, Reykjavik,...</td>\n",
       "      <td>{'Aalborg': 0.0, 'Adana': 0.0, 'Adiyaman': 0.0...</td>\n",
       "    </tr>\n",
       "  </tbody>\n",
       "</table>\n",
       "</div>"
      ],
      "text/plain": [
       "               config_id                                             config  \\\n",
       "0  c_p_143_pop_high_hard  {'p_id': 'p_143', 'persona': 'A former printin...   \n",
       "1   c_p_15_pop_high_hard  {'p_id': 'p_15', 'persona': 'A patient who see...   \n",
       "2    c_p_5_pop_high_hard  {'p_id': 'p_5', 'persona': 'an average Ukraini...   \n",
       "3  c_p_155_pop_high_hard  {'p_id': 'p_155', 'persona': 'a digital transf...   \n",
       "4  c_p_116_pop_high_hard  {'p_id': 'p_116', 'persona': 'An entrepreneuri...   \n",
       "\n",
       "                                               query  \\\n",
       "0  \"Recommend European cities for a high-budget t...   \n",
       "1  \"High budget European cities to visit in Decem...   \n",
       "2  \"Popular and expensive European cities to visi...   \n",
       "3  \"European city breaks in September with high-e...   \n",
       "4  High budget European city breaks in October wi...   \n",
       "\n",
       "                        response_Claude3Point7Sonnet  \\\n",
       "0  ['Paris', 'London', 'Berlin', 'Barcelona', 'Am...   \n",
       "1  ['London', 'Paris', 'Vienna', 'Prague', 'Berli...   \n",
       "2  ['Geneva', 'Stockholm', 'Zurich', 'Copenhagen'...   \n",
       "3  ['Paris', 'Rome', 'London', 'Barcelona', 'Vien...   \n",
       "4  ['Barcelona', 'Rome', 'Paris', 'Istanbul', 'Ma...   \n",
       "\n",
       "                                       response_mami  \\\n",
       "0  [Paris, London, Berlin, Barcelona, Amsterdam, ...   \n",
       "1  [Paris, Copenhagen, London, Vienna, Amsterdam,...   \n",
       "2  [Geneva, Paris, London, Rome, Vienna, Amsterda...   \n",
       "3  [London, Reykjavik, Paris, Copenhagen, Stockho...   \n",
       "4  [Zurich, Paris, Copenhagen, London, Vienna, St...   \n",
       "\n",
       "                                    city_scores_mami  \\\n",
       "0  {'Aalborg': 0.0, 'Adana': 0.0, 'Adiyaman': 0.0...   \n",
       "1  {'Aalborg': 0.0, 'Adana': 0.0, 'Adiyaman': 0.0...   \n",
       "2  {'Aalborg': 0.0, 'Adana': 0.0, 'Adiyaman': 0.0...   \n",
       "3  {'Aalborg': 7.405424345486816e-08, 'Adana': 0....   \n",
       "4  {'Aalborg': 0.0, 'Adana': 0.0, 'Adiyaman': 0.0...   \n",
       "\n",
       "                                       response_masi  \\\n",
       "0  [Paris, London, Reykjavik, Berlin, Bergen, Vie...   \n",
       "1  [Paris, London, Copenhagen, Amsterdam, Reykjav...   \n",
       "2  [London, Geneva, Reykjavik, Stockholm, Paris, ...   \n",
       "3  [London, Reykjavik, Zurich, Bergen, Paris, Gen...   \n",
       "4  [Zurich, Paris, Copenhagen, Vienna, Reykjavik,...   \n",
       "\n",
       "                                    city_scores_masi  \n",
       "0  {'Aalborg': 0.0, 'Adana': 0.0, 'Adiyaman': 0.0...  \n",
       "1  {'Aalborg': 0.0, 'Adana': 0.0, 'Adiyaman': 0.0...  \n",
       "2  {'Aalborg': 0.0, 'Adana': 0.0, 'Adiyaman': 0.0...  \n",
       "3  {'Aalborg': 0.08558979147214442, 'Adana': 0.0,...  \n",
       "4  {'Aalborg': 0.0, 'Adana': 0.0, 'Adiyaman': 0.0...  "
      ]
     },
     "execution_count": 127,
     "metadata": {},
     "output_type": "execute_result"
    }
   ],
   "source": [
    "mami_df = pd.DataFrame(mami_results)\n",
    "gemini_results_df = pd.merge(\n",
    "    left=sasi_gemini,\n",
    "    right=mami_df, \n",
    "    on=[\"config_id\"],\n",
    "    how=\"inner\"\n",
    ")\n",
    "\n",
    "gemini_results_df.head()"
   ]
  },
  {
   "cell_type": "code",
   "execution_count": 147,
   "metadata": {},
   "outputs": [],
   "source": [
    "gemini_results_df['response_Claude3Point7Sonnet'] = gemini_results_df['response_Claude3Point7Sonnet'].apply(ast.literal_eval)"
   ]
  },
  {
   "cell_type": "code",
   "execution_count": 148,
   "metadata": {},
   "outputs": [
    {
     "data": {
      "text/html": [
       "<div>\n",
       "<style scoped>\n",
       "    .dataframe tbody tr th:only-of-type {\n",
       "        vertical-align: middle;\n",
       "    }\n",
       "\n",
       "    .dataframe tbody tr th {\n",
       "        vertical-align: top;\n",
       "    }\n",
       "\n",
       "    .dataframe thead th {\n",
       "        text-align: right;\n",
       "    }\n",
       "</style>\n",
       "<table border=\"1\" class=\"dataframe\">\n",
       "  <thead>\n",
       "    <tr style=\"text-align: right;\">\n",
       "      <th></th>\n",
       "      <th>config_id</th>\n",
       "      <th>config</th>\n",
       "      <th>query</th>\n",
       "      <th>response_Claude3Point7Sonnet</th>\n",
       "      <th>response_mami</th>\n",
       "      <th>city_scores_mami</th>\n",
       "      <th>response_masi</th>\n",
       "      <th>city_scores_masi</th>\n",
       "    </tr>\n",
       "  </thead>\n",
       "  <tbody>\n",
       "    <tr>\n",
       "      <th>0</th>\n",
       "      <td>c_p_143_pop_high_hard</td>\n",
       "      <td>{'p_id': 'p_143', 'persona': 'A former printin...</td>\n",
       "      <td>\"Recommend European cities for a high-budget t...</td>\n",
       "      <td>[Paris, London, Berlin, Barcelona, Amsterdam, ...</td>\n",
       "      <td>[Paris, London, Berlin, Barcelona, Amsterdam, ...</td>\n",
       "      <td>{'Aalborg': 0.0, 'Adana': 0.0, 'Adiyaman': 0.0...</td>\n",
       "      <td>[Paris, London, Reykjavik, Berlin, Bergen, Vie...</td>\n",
       "      <td>{'Aalborg': 0.0, 'Adana': 0.0, 'Adiyaman': 0.0...</td>\n",
       "    </tr>\n",
       "    <tr>\n",
       "      <th>1</th>\n",
       "      <td>c_p_15_pop_high_hard</td>\n",
       "      <td>{'p_id': 'p_15', 'persona': 'A patient who see...</td>\n",
       "      <td>\"High budget European cities to visit in Decem...</td>\n",
       "      <td>[London, Paris, Vienna, Prague, Berlin, Amster...</td>\n",
       "      <td>[Paris, Copenhagen, London, Vienna, Amsterdam,...</td>\n",
       "      <td>{'Aalborg': 0.0, 'Adana': 0.0, 'Adiyaman': 0.0...</td>\n",
       "      <td>[Paris, London, Copenhagen, Amsterdam, Reykjav...</td>\n",
       "      <td>{'Aalborg': 0.0, 'Adana': 0.0, 'Adiyaman': 0.0...</td>\n",
       "    </tr>\n",
       "    <tr>\n",
       "      <th>2</th>\n",
       "      <td>c_p_5_pop_high_hard</td>\n",
       "      <td>{'p_id': 'p_5', 'persona': 'an average Ukraini...</td>\n",
       "      <td>\"Popular and expensive European cities to visi...</td>\n",
       "      <td>[Geneva, Stockholm, Zurich, Copenhagen, Vienna...</td>\n",
       "      <td>[Geneva, Paris, London, Rome, Vienna, Amsterda...</td>\n",
       "      <td>{'Aalborg': 0.0, 'Adana': 0.0, 'Adiyaman': 0.0...</td>\n",
       "      <td>[London, Geneva, Reykjavik, Stockholm, Paris, ...</td>\n",
       "      <td>{'Aalborg': 0.0, 'Adana': 0.0, 'Adiyaman': 0.0...</td>\n",
       "    </tr>\n",
       "    <tr>\n",
       "      <th>3</th>\n",
       "      <td>c_p_155_pop_high_hard</td>\n",
       "      <td>{'p_id': 'p_155', 'persona': 'a digital transf...</td>\n",
       "      <td>\"European city breaks in September with high-e...</td>\n",
       "      <td>[Paris, Rome, London, Barcelona, Vienna, Amste...</td>\n",
       "      <td>[London, Reykjavik, Paris, Copenhagen, Stockho...</td>\n",
       "      <td>{'Aalborg': 7.405424345486816e-08, 'Adana': 0....</td>\n",
       "      <td>[London, Reykjavik, Zurich, Bergen, Paris, Gen...</td>\n",
       "      <td>{'Aalborg': 0.08558979147214442, 'Adana': 0.0,...</td>\n",
       "    </tr>\n",
       "    <tr>\n",
       "      <th>4</th>\n",
       "      <td>c_p_116_pop_high_hard</td>\n",
       "      <td>{'p_id': 'p_116', 'persona': 'An entrepreneuri...</td>\n",
       "      <td>High budget European city breaks in October wi...</td>\n",
       "      <td>[Barcelona, Rome, Paris, Istanbul, Madrid, Vie...</td>\n",
       "      <td>[Zurich, Paris, Copenhagen, London, Vienna, St...</td>\n",
       "      <td>{'Aalborg': 0.0, 'Adana': 0.0, 'Adiyaman': 0.0...</td>\n",
       "      <td>[Zurich, Paris, Copenhagen, Vienna, Reykjavik,...</td>\n",
       "      <td>{'Aalborg': 0.0, 'Adana': 0.0, 'Adiyaman': 0.0...</td>\n",
       "    </tr>\n",
       "  </tbody>\n",
       "</table>\n",
       "</div>"
      ],
      "text/plain": [
       "               config_id                                             config  \\\n",
       "0  c_p_143_pop_high_hard  {'p_id': 'p_143', 'persona': 'A former printin...   \n",
       "1   c_p_15_pop_high_hard  {'p_id': 'p_15', 'persona': 'A patient who see...   \n",
       "2    c_p_5_pop_high_hard  {'p_id': 'p_5', 'persona': 'an average Ukraini...   \n",
       "3  c_p_155_pop_high_hard  {'p_id': 'p_155', 'persona': 'a digital transf...   \n",
       "4  c_p_116_pop_high_hard  {'p_id': 'p_116', 'persona': 'An entrepreneuri...   \n",
       "\n",
       "                                               query  \\\n",
       "0  \"Recommend European cities for a high-budget t...   \n",
       "1  \"High budget European cities to visit in Decem...   \n",
       "2  \"Popular and expensive European cities to visi...   \n",
       "3  \"European city breaks in September with high-e...   \n",
       "4  High budget European city breaks in October wi...   \n",
       "\n",
       "                        response_Claude3Point7Sonnet  \\\n",
       "0  [Paris, London, Berlin, Barcelona, Amsterdam, ...   \n",
       "1  [London, Paris, Vienna, Prague, Berlin, Amster...   \n",
       "2  [Geneva, Stockholm, Zurich, Copenhagen, Vienna...   \n",
       "3  [Paris, Rome, London, Barcelona, Vienna, Amste...   \n",
       "4  [Barcelona, Rome, Paris, Istanbul, Madrid, Vie...   \n",
       "\n",
       "                                       response_mami  \\\n",
       "0  [Paris, London, Berlin, Barcelona, Amsterdam, ...   \n",
       "1  [Paris, Copenhagen, London, Vienna, Amsterdam,...   \n",
       "2  [Geneva, Paris, London, Rome, Vienna, Amsterda...   \n",
       "3  [London, Reykjavik, Paris, Copenhagen, Stockho...   \n",
       "4  [Zurich, Paris, Copenhagen, London, Vienna, St...   \n",
       "\n",
       "                                    city_scores_mami  \\\n",
       "0  {'Aalborg': 0.0, 'Adana': 0.0, 'Adiyaman': 0.0...   \n",
       "1  {'Aalborg': 0.0, 'Adana': 0.0, 'Adiyaman': 0.0...   \n",
       "2  {'Aalborg': 0.0, 'Adana': 0.0, 'Adiyaman': 0.0...   \n",
       "3  {'Aalborg': 7.405424345486816e-08, 'Adana': 0....   \n",
       "4  {'Aalborg': 0.0, 'Adana': 0.0, 'Adiyaman': 0.0...   \n",
       "\n",
       "                                       response_masi  \\\n",
       "0  [Paris, London, Reykjavik, Berlin, Bergen, Vie...   \n",
       "1  [Paris, London, Copenhagen, Amsterdam, Reykjav...   \n",
       "2  [London, Geneva, Reykjavik, Stockholm, Paris, ...   \n",
       "3  [London, Reykjavik, Zurich, Bergen, Paris, Gen...   \n",
       "4  [Zurich, Paris, Copenhagen, Vienna, Reykjavik,...   \n",
       "\n",
       "                                    city_scores_masi  \n",
       "0  {'Aalborg': 0.0, 'Adana': 0.0, 'Adiyaman': 0.0...  \n",
       "1  {'Aalborg': 0.0, 'Adana': 0.0, 'Adiyaman': 0.0...  \n",
       "2  {'Aalborg': 0.0, 'Adana': 0.0, 'Adiyaman': 0.0...  \n",
       "3  {'Aalborg': 0.08558979147214442, 'Adana': 0.0,...  \n",
       "4  {'Aalborg': 0.0, 'Adana': 0.0, 'Adiyaman': 0.0...  "
      ]
     },
     "execution_count": 148,
     "metadata": {},
     "output_type": "execute_result"
    }
   ],
   "source": [
    "gemini_results_df.head()"
   ]
  },
  {
   "cell_type": "code",
   "execution_count": 149,
   "metadata": {},
   "outputs": [],
   "source": [
    "listings_df = pd.read_csv(f\"{data_dir}kg-generation/new-kg/data/merged_listing.csv\")"
   ]
  },
  {
   "cell_type": "code",
   "execution_count": 150,
   "metadata": {},
   "outputs": [
    {
     "data": {
      "text/plain": [
       "0    Medium\n",
       "1    Medium\n",
       "2    Medium\n",
       "3    Medium\n",
       "4    Medium\n",
       "Name: popularity, dtype: object"
      ]
     },
     "execution_count": 150,
     "metadata": {},
     "output_type": "execute_result"
    }
   ],
   "source": [
    "listings_df['popularity'].head()"
   ]
  },
  {
   "cell_type": "code",
   "execution_count": 151,
   "metadata": {},
   "outputs": [],
   "source": [
    "def get_avg_pop_match(column, pop, method):\n",
    "    pop_cities = set(listings_df[listings_df['popularity'] == pop.capitalize()]['city'])\n",
    "\n",
    "    matches = []\n",
    "\n",
    "    for response in column: \n",
    "        matches.append(len(set(response) & pop_cities)/len(response))\n",
    "\n",
    "    # print(f\"Method: {method}, Popularity: {pop}, Average of matches (in proportion): {np.mean(matches)}\")\n",
    "\n",
    "    return {\n",
    "        'method': method, \n",
    "        'popularity': pop, \n",
    "        'avg_matches': np.mean(matches) \n",
    "    }"
   ]
  },
  {
   "cell_type": "code",
   "execution_count": 152,
   "metadata": {},
   "outputs": [],
   "source": [
    "grouping = []\n",
    "\n",
    "for pop in ['high', 'medium', 'low']:\n",
    "    relevant_configs = gemini_results_df[gemini_results_df['config_id'].str.contains(f'pop_{pop}')]\n",
    "    grouping.append(get_avg_pop_match(column=relevant_configs['response_Claude3Point7Sonnet'], pop=pop, method='SASI'))\n",
    "    grouping.append(get_avg_pop_match(column=relevant_configs['response_masi'], pop=pop, method='MASI'))\n",
    "    grouping.append(get_avg_pop_match(column=relevant_configs['response_mami'], pop=pop, method='MAMI'))"
   ]
  },
  {
   "cell_type": "code",
   "execution_count": 153,
   "metadata": {},
   "outputs": [
    {
     "data": {
      "text/html": [
       "<div>\n",
       "<style scoped>\n",
       "    .dataframe tbody tr th:only-of-type {\n",
       "        vertical-align: middle;\n",
       "    }\n",
       "\n",
       "    .dataframe tbody tr th {\n",
       "        vertical-align: top;\n",
       "    }\n",
       "\n",
       "    .dataframe thead th {\n",
       "        text-align: right;\n",
       "    }\n",
       "</style>\n",
       "<table border=\"1\" class=\"dataframe\">\n",
       "  <thead>\n",
       "    <tr style=\"text-align: right;\">\n",
       "      <th></th>\n",
       "      <th>method</th>\n",
       "      <th>popularity</th>\n",
       "      <th>avg_matches</th>\n",
       "    </tr>\n",
       "  </thead>\n",
       "  <tbody>\n",
       "    <tr>\n",
       "      <th>0</th>\n",
       "      <td>SASI</td>\n",
       "      <td>high</td>\n",
       "      <td>0.980000</td>\n",
       "    </tr>\n",
       "    <tr>\n",
       "      <th>1</th>\n",
       "      <td>MASI</td>\n",
       "      <td>high</td>\n",
       "      <td>0.953333</td>\n",
       "    </tr>\n",
       "    <tr>\n",
       "      <th>2</th>\n",
       "      <td>MAMI</td>\n",
       "      <td>high</td>\n",
       "      <td>0.993333</td>\n",
       "    </tr>\n",
       "    <tr>\n",
       "      <th>3</th>\n",
       "      <td>SASI</td>\n",
       "      <td>medium</td>\n",
       "      <td>0.093333</td>\n",
       "    </tr>\n",
       "    <tr>\n",
       "      <th>4</th>\n",
       "      <td>MASI</td>\n",
       "      <td>medium</td>\n",
       "      <td>0.073333</td>\n",
       "    </tr>\n",
       "    <tr>\n",
       "      <th>5</th>\n",
       "      <td>MAMI</td>\n",
       "      <td>medium</td>\n",
       "      <td>0.046667</td>\n",
       "    </tr>\n",
       "  </tbody>\n",
       "</table>\n",
       "</div>"
      ],
      "text/plain": [
       "  method popularity  avg_matches\n",
       "0   SASI       high     0.980000\n",
       "1   MASI       high     0.953333\n",
       "2   MAMI       high     0.993333\n",
       "3   SASI     medium     0.093333\n",
       "4   MASI     medium     0.073333\n",
       "5   MAMI     medium     0.046667"
      ]
     },
     "execution_count": 153,
     "metadata": {},
     "output_type": "execute_result"
    }
   ],
   "source": [
    "grouped_df = pd.DataFrame(grouping)\n",
    "grouped_df.head(6)"
   ]
  },
  {
   "cell_type": "code",
   "execution_count": 154,
   "metadata": {},
   "outputs": [
    {
     "data": {
      "image/png": "[encoded data removed]",
      "text/plain": [
       "<Figure size 1000x600 with 1 Axes>"
      ]
     },
     "metadata": {},
     "output_type": "display_data"
    }
   ],
   "source": [
    "pivot_df = grouped_df.pivot(index='popularity', columns='method', values='avg_matches')\n",
    "pivot_df = pivot_df.reindex(['low', 'medium', 'high'])  # ensure correct order\n",
    "\n",
    "# Plot\n",
    "x = np.arange(len(pivot_df.index))  # label locations\n",
    "width = 0.2  # width of the bars\n",
    "\n",
    "fig, ax = plt.subplots(figsize=(10,6))\n",
    "ax.bar(x - width, pivot_df['SASI'], width, label='SASI')\n",
    "ax.bar(x, pivot_df['MASI'], width, label='MASI')\n",
    "ax.bar(x + width, pivot_df['MAMI'], width, label='MAMI')\n",
    "\n",
    "# Labels and formatting\n",
    "ax.set_xlabel('Popularity')\n",
    "ax.set_ylabel('Average Matches')\n",
    "ax.set_title('Average Matches by Method and Popularity')\n",
    "ax.set_xticks(x)\n",
    "ax.set_xticklabels(pivot_df.index)\n",
    "ax.legend()\n",
    "\n",
    "plt.tight_layout()\n",
    "plt.show()"
   ]
  },
  {
   "cell_type": "markdown",
   "metadata": {},
   "source": [
    "## Diversity\n",
    "\n",
    "Using Entropy@K, with the formula: \n",
    "$$\n",
    "\\text{Entropy@K} = - \\sum_{i \\in \\mathcal{I}_K} p_i \\log(p_i)\n",
    "$$\n",
    "\n",
    "Normalized Entropy formula: \n",
    "\n",
    "$$\n",
    "\\text{Normalized Entropy@K} = \\frac{- \\sum_{i \\in \\mathcal{I}_K} p_i \\log(p_i)}{\\log(|\\mathcal{I}_K|)}\n",
    "$$\n"
   ]
  },
  {
   "cell_type": "code",
   "execution_count": 155,
   "metadata": {},
   "outputs": [],
   "source": [
    "from collections import Counter\n",
    "import math\n",
    "\n",
    "def compute_normalized_entropy(recommendations):\n",
    "    # Example: recommendations is a list of 45 lists, each of length 10\n",
    "    # recommendations = [[item1, item2, ..., item10], ..., [item1, ..., item10]]\n",
    "    flattened = [item for sublist in recommendations for item in sublist]\n",
    "    freqs = Counter(flattened)\n",
    "    total = len(flattened)  # should be 450\n",
    "\n",
    "    print(total == 450)\n",
    "    print(f\"Unique items: {len(freqs.keys())}\")\n",
    "\n",
    "    # Step 2: Calculate probabilities\n",
    "    probs = [count / total for count in freqs.values()]\n",
    "    print(probs)\n",
    "\n",
    "    # Step 3: Compute entropy\n",
    "    entropy = round(-sum(p * math.log(p) for p in probs), 3)\n",
    "    normalized_entropy = round(entropy / math.log(len(freqs)), 3)  \n",
    "\n",
    "    return {\n",
    "        'entropy': entropy, \n",
    "        'normalized_entropy': normalized_entropy\n",
    "    }\n",
    "\n"
   ]
  },
  {
   "cell_type": "code",
   "execution_count": 156,
   "metadata": {},
   "outputs": [
    {
     "name": "stdout",
     "output_type": "stream",
     "text": [
      "True\n",
      "Unique items: 49\n",
      "{'entropy': 3.366, 'normalized_entropy': 0.865}\n"
     ]
    }
   ],
   "source": [
    "print(compute_normalized_entropy(gemini_results_df['response_mami']))"
   ]
  },
  {
   "cell_type": "code",
   "execution_count": 157,
   "metadata": {},
   "outputs": [
    {
     "name": "stdout",
     "output_type": "stream",
     "text": [
      "True\n",
      "Unique items: 55\n",
      "{'entropy': 3.45, 'normalized_entropy': 0.861}\n"
     ]
    }
   ],
   "source": [
    "print(compute_normalized_entropy(gemini_results_df['response_masi']))"
   ]
  },
  {
   "cell_type": "code",
   "execution_count": 158,
   "metadata": {},
   "outputs": [
    {
     "name": "stdout",
     "output_type": "stream",
     "text": [
      "True\n",
      "Unique items: 87\n",
      "{'entropy': 3.985, 'normalized_entropy': 0.892}\n"
     ]
    }
   ],
   "source": [
    "print(compute_normalized_entropy(gemini_results_df['response_Claude3Point7Sonnet']))"
   ]
  },
  {
   "cell_type": "markdown",
   "metadata": {},
   "source": [
    "### Using Gini Index\n",
    "\n",
    "$$\n",
    "\\text{Gini} = \\frac{\\sum_{i=1}^{n} (2i - n - 1) \\cdot x_i}{n \\sum_{i=1}^{n} x_i}\n",
    "$$\n"
   ]
  },
  {
   "cell_type": "code",
   "execution_count": 159,
   "metadata": {},
   "outputs": [],
   "source": [
    "def gini_index(recommendations):\n",
    "\n",
    "    # Flatten the list of recommendations\n",
    "    flattened = [item for sublist in recommendations for item in sublist]\n",
    "\n",
    "    # Count frequency of each item\n",
    "    freqs = Counter(flattened)\n",
    "\n",
    "    # Convert counts to numpy array and sort\n",
    "    values = np.array(sorted(freqs.values()))\n",
    "    n = len(values)\n",
    "    \n",
    "    # Gini index calculation\n",
    "    index = np.arange(1, n + 1)\n",
    "    gini = (np.sum((2 * index - n - 1) * values)) / (n * np.sum(values))\n",
    "    \n",
    "    return gini"
   ]
  },
  {
   "cell_type": "code",
   "execution_count": 160,
   "metadata": {},
   "outputs": [
    {
     "data": {
      "text/plain": [
       "np.float64(0.5312388250319284)"
      ]
     },
     "execution_count": 160,
     "metadata": {},
     "output_type": "execute_result"
    }
   ],
   "source": [
    "gini_index(gemini_results_df['response_Claude3Point7Sonnet'])"
   ]
  },
  {
   "cell_type": "code",
   "execution_count": 161,
   "metadata": {},
   "outputs": [
    {
     "data": {
      "text/plain": [
       "np.float64(0.5697777777777778)"
      ]
     },
     "execution_count": 161,
     "metadata": {},
     "output_type": "execute_result"
    }
   ],
   "source": [
    "gini_index(gemini_results_df['response_masi'])"
   ]
  },
  {
   "cell_type": "code",
   "execution_count": 162,
   "metadata": {},
   "outputs": [
    {
     "data": {
      "text/plain": [
       "np.float64(0.5560090702947846)"
      ]
     },
     "execution_count": 162,
     "metadata": {},
     "output_type": "execute_result"
    }
   ],
   "source": [
    "gini_index(gemini_results_df['response_mami'])"
   ]
  },
  {
   "cell_type": "code",
   "execution_count": 123,
   "metadata": {},
   "outputs": [
    {
     "data": {
      "text/plain": [
       "100"
      ]
     },
     "execution_count": 123,
     "metadata": {},
     "output_type": "execute_result"
    }
   ],
   "source": [
    "len(listings_df[listings_df['walkability'] == 'Great']['city'].unique())"
   ]
  },
  {
   "cell_type": "markdown",
   "metadata": {},
   "source": [
    "## Sustainability"
   ]
  },
  {
   "cell_type": "code",
   "execution_count": 96,
   "metadata": {},
   "outputs": [],
   "source": [
    "CITIES = [city for city in listings_df['city'].unique()]"
   ]
  },
  {
   "cell_type": "code",
   "execution_count": 95,
   "metadata": {},
   "outputs": [],
   "source": [
    "sust = gemini_results_df[gemini_results_df['config_id'].str.contains(\"sust\")]"
   ]
  },
  {
   "cell_type": "code",
   "execution_count": null,
   "metadata": {},
   "outputs": [],
   "source": [
    "def plot_diversity(df, method):\n",
    "    city_counts = {city: 0 for city in CITIES}\n",
    "\n",
    "    df"
   ]
  }
 ],
 "metadata": {
  "kernelspec": {
   "display_name": ".venv",
   "language": "python",
   "name": "python3"
  },
  "language_info": {
   "codemirror_mode": {
    "name": "ipython",
    "version": 3
   },
   "file_extension": ".py",
   "mimetype": "text/x-python",
   "name": "python",
   "nbconvert_exporter": "python",
   "pygments_lexer": "ipython3",
   "version": "3.13.3"
  }
 },
 "nbformat": 4,
 "nbformat_minor": 2
}
