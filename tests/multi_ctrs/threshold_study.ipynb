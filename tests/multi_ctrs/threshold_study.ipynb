{
 "cells": [
  {
   "cell_type": "code",
   "execution_count": 1,
   "metadata": {},
   "outputs": [],
   "source": [
    "import pandas as pd \n",
    "import os \n",
    "import numpy as np \n",
    "import sys \n",
    "import re\n",
    "import json \n",
    "from helpers import match_city_with_filters, get_city_relevance_score, get_improvement_percentage\n",
    "import ast"
   ]
  },
  {
   "cell_type": "code",
   "execution_count": 2,
   "metadata": {},
   "outputs": [
    {
     "name": "stdout",
     "output_type": "stream",
     "text": [
      "/Users/adithisatish/TUM/Academics/thesis/travel-crs/data/conv-trs/multi-agent/results/\n"
     ]
    }
   ],
   "source": [
    "data_dir = \"/\".join(os.getcwd().split(\"/\")[:-2]) + \"/data/conv-trs/\"\n",
    "results_dir = data_dir + \"multi-agent/results/\"\n",
    "print(results_dir)"
   ]
  },
  {
   "cell_type": "code",
   "execution_count": 3,
   "metadata": {},
   "outputs": [],
   "source": [
    "listings_df = pd.read_csv(f\"{data_dir}kg-generation/new-kg/data/merged_listing.csv\")"
   ]
  },
  {
   "cell_type": "code",
   "execution_count": 4,
   "metadata": {},
   "outputs": [],
   "source": [
    "samples_df = pd.read_csv(f\"{data_dir}multi-agent/sample-data/llama3point2_sample.csv\")"
   ]
  },
  {
   "cell_type": "code",
   "execution_count": 5,
   "metadata": {},
   "outputs": [
    {
     "name": "stdout",
     "output_type": "stream",
     "text": [
      "<class 'pandas.core.frame.DataFrame'>\n",
      "RangeIndex: 45 entries, 0 to 44\n",
      "Data columns (total 4 columns):\n",
      " #   Column     Non-Null Count  Dtype \n",
      "---  ------     --------------  ----- \n",
      " 0   config_id  45 non-null     object\n",
      " 1   config     45 non-null     object\n",
      " 2   city       45 non-null     object\n",
      " 3   query_v    45 non-null     object\n",
      "dtypes: object(4)\n",
      "memory usage: 1.5+ KB\n",
      "None\n"
     ]
    }
   ],
   "source": [
    "print(samples_df.info())"
   ]
  },
  {
   "cell_type": "code",
   "execution_count": 6,
   "metadata": {},
   "outputs": [
    {
     "name": "stdout",
     "output_type": "stream",
     "text": [
      "<class 'pandas.core.frame.DataFrame'>\n",
      "Index: 15 entries, 24 to 5\n",
      "Data columns (total 4 columns):\n",
      " #   Column     Non-Null Count  Dtype \n",
      "---  ------     --------------  ----- \n",
      " 0   config_id  15 non-null     object\n",
      " 1   config     15 non-null     object\n",
      " 2   city       15 non-null     object\n",
      " 3   query_v    15 non-null     object\n",
      "dtypes: object(4)\n",
      "memory usage: 600.0+ bytes\n",
      "None\n"
     ]
    }
   ],
   "source": [
    "sample_configs = pd.concat([\n",
    "    samples_df[samples_df['config_id'].str.contains(\"pop_low\")].apply(lambda x: x.sample(5, random_state=42)), \n",
    "    samples_df[samples_df['config_id'].str.contains(\"pop_medium\")].apply(lambda x: x.sample(5, random_state=42)), \n",
    "    samples_df[samples_df['config_id'].str.contains(\"pop_high\")].apply(lambda x: x.sample(5, random_state=42)), \n",
    "])\n",
    "\n",
    "print(sample_configs.info())"
   ]
  },
  {
   "cell_type": "code",
   "execution_count": 7,
   "metadata": {},
   "outputs": [],
   "source": [
    "sample_configs['config'] = sample_configs['config'].apply(ast.literal_eval)"
   ]
  },
  {
   "cell_type": "code",
   "execution_count": null,
   "metadata": {},
   "outputs": [
    {
     "name": "stdout",
     "output_type": "stream",
     "text": [
      "[{'round': 4, 'improvement': 50.00000000000001}, {'round': 0, 'improvement': 0}, {'round': 3, 'improvement': 99.99999999999999}, {'round': 2, 'improvement': 50.00000000000001}, {'round': 8, 'improvement': 50.00000000000001}, {'round': 1, 'improvement': 33.333333333333336}, {'round': 9, 'improvement': 200.00000000000003}, {'round': 0, 'improvement': 0}, {'round': 7, 'improvement': 50.00000000000001}, {'round': 0, 'improvement': 0}, {'round': 6, 'improvement': 33.333333333333336}, {'round': 1, 'improvement': 33.333333333333336}, {'round': 0, 'improvement': 0}, {'round': 0, 'improvement': 0}, {'round': 0, 'improvement': 0}, {'round': 3, 'improvement': 33.333333333333336}, {'round': 6, 'improvement': 300.0}, {'round': 0, 'improvement': 0}, {'round': 0, 'improvement': 0}, {'round': 6, 'improvement': 33.333333333333336}, {'round': 0, 'improvement': 0}, {'round': 0, 'improvement': 0}, {'round': 5, 'improvement': 33.333333333333336}, {'round': 5, 'improvement': 100.0}, {'round': 1, 'improvement': 33.333333333333336}, {'round': 0, 'improvement': 0}, {'round': 2, 'improvement': 100.0}, {'round': 0, 'improvement': 0}, {'round': 0, 'improvement': 0}, {'round': 4, 'improvement': 300.0}, {'round': 0, 'improvement': 0}, {'round': 4, 'improvement': 50.00000000000001}, {'round': 3, 'improvement': 50.0}, {'round': 6, 'improvement': 33.333333333333336}, {'round': 1, 'improvement': 50.0}, {'round': 2, 'improvement': 200.00000000000003}, {'round': 0, 'improvement': 0}, {'round': 0, 'improvement': 0}, {'round': 1, 'improvement': 100.0}, {'round': 2, 'improvement': 50.0}, {'round': 1, 'improvement': 33.333333333333336}, {'round': 0, 'improvement': 0}, {'round': 8, 'improvement': 50.00000000000001}, {'round': 0, 'improvement': 0}, {'round': 8, 'improvement': 33.333333333333336}]\n"
     ]
    }
   ],
   "source": [
    "mami_results = [] \n",
    "mami_dir = f\"{results_dir}prompt_ranking_aggressive/gemini2point5flash/states/\"\n",
    "rounds=10\n",
    "\n",
    "improvement = []\n",
    "for file in os.listdir(mami_dir):\n",
    "    config_id = (file.split(\"states_\")[1]).split(\".json\")[0]\n",
    "\n",
    "    # if config_id not in sample_configs['config_id'].tolist():\n",
    "    #     continue\n",
    "    \n",
    "    with open(f\"{mami_dir}{file}\", \"r\") as f: \n",
    "        data = json.load(f)\n",
    "\n",
    "    # filters = sample_configs[sample_configs['config_id'] == config_id]['config'].values[0]['filters']\n",
    "    filters = ast.literal_eval(samples_df[samples_df['config_id'] == config_id]['config'].values[0])['filters']\n",
    "    # print(filters)\n",
    "    # print(get_improvement_percentage(data, filters, kb))\n",
    "    improvement.append(get_improvement_percentage(data, filters, listings_df))"
   ]
  },
  {
   "cell_type": "code",
   "execution_count": 9,
   "metadata": {},
   "outputs": [
    {
     "name": "stdout",
     "output_type": "stream",
     "text": [
      "Average Improvement shown: 48.52%\n"
     ]
    }
   ],
   "source": [
    "print(f\"Average Improvement shown: {round(np.mean(list(map(lambda x: x['improvement'], improvement))), 2)}%\")"
   ]
  },
  {
   "cell_type": "code",
   "execution_count": 13,
   "metadata": {},
   "outputs": [
    {
     "name": "stdout",
     "output_type": "stream",
     "text": [
      "Average Improvement shown: 1.0%\n"
     ]
    }
   ],
   "source": [
    "print(f\"Average Improvement shown: {round(np.median(list(map(lambda x: x['round'], improvement))), 2)}%\")"
   ]
  },
  {
   "cell_type": "code",
   "execution_count": null,
   "metadata": {},
   "outputs": [],
   "source": []
  }
 ],
 "metadata": {
  "kernelspec": {
   "display_name": ".venv",
   "language": "python",
   "name": "python3"
  },
  "language_info": {
   "codemirror_mode": {
    "name": "ipython",
    "version": 3
   },
   "file_extension": ".py",
   "mimetype": "text/x-python",
   "name": "python",
   "nbconvert_exporter": "python",
   "pygments_lexer": "ipython3",
   "version": "3.13.3"
  }
 },
 "nbformat": 4,
 "nbformat_minor": 2
}
