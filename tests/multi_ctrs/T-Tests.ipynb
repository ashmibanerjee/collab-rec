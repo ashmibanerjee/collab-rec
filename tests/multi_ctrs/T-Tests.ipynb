{
 "cells": [
  {
   "cell_type": "code",
   "execution_count": 7,
   "id": "97d8186e-40bf-4e85-8d90-8fc02f9802be",
   "metadata": {},
   "outputs": [],
   "source": [
    "import os\n",
    "\n",
    "import sys\n",
    "sys.path.append(\"../../\")\n",
    "\n",
    "from tests.multi_ctrs.helpers import load_queries, get_collective_distribution"
   ]
  },
  {
   "cell_type": "code",
   "execution_count": 21,
   "id": "d9d9b93c-bc02-463a-8922-14d070d4efba",
   "metadata": {},
   "outputs": [
    {
     "name": "stdout",
     "output_type": "stream",
     "text": [
      "c_p_143_pop_high_hard\n",
      "c_p_15_pop_high_hard\n",
      "c_p_5_pop_high_hard\n",
      "c_p_155_pop_high_hard\n",
      "c_p_116_pop_high_hard\n",
      "c_p_162_pop_high_medium\n",
      "c_p_113_pop_high_medium\n",
      "c_p_130_pop_high_medium\n",
      "c_p_131_pop_high_medium\n",
      "c_p_94_pop_high_medium\n",
      "c_p_67_pop_high_sustainable\n",
      "c_p_0_pop_high_sustainable\n",
      "c_p_43_pop_high_sustainable\n",
      "c_p_68_pop_high_sustainable\n",
      "c_p_38_pop_high_sustainable\n",
      "c_p_118_pop_low_medium\n",
      "c_p_24_pop_low_medium\n",
      "c_p_119_pop_low_medium\n",
      "c_p_60_pop_low_medium\n",
      "c_p_77_pop_low_medium\n",
      "c_p_113_pop_low_sustainable\n",
      "c_p_147_pop_low_sustainable\n",
      "c_p_3_pop_low_sustainable\n",
      "c_p_169_pop_low_sustainable\n",
      "c_p_54_pop_low_sustainable\n",
      "c_p_136_pop_medium_hard\n",
      "c_p_92_pop_medium_hard\n",
      "c_p_196_pop_medium_hard\n",
      "c_p_36_pop_medium_hard\n",
      "c_p_167_pop_medium_hard\n",
      "c_p_160_pop_medium_medium\n",
      "c_p_98_pop_medium_medium\n",
      "c_p_133_pop_medium_medium\n",
      "c_p_80_pop_medium_medium\n",
      "c_p_78_pop_medium_medium\n",
      "c_p_120_pop_medium_sustainable\n",
      "c_p_47_pop_medium_sustainable\n",
      "c_p_14_pop_medium_sustainable\n",
      "c_p_28_pop_medium_sustainable\n",
      "c_p_150_pop_medium_sustainable\n",
      "c_p_126_pop_low_sustainable\n",
      "c_p_31_pop_low_sustainable\n",
      "c_p_94_pop_low_sustainable\n",
      "c_p_12_pop_low_sustainable\n",
      "c_p_177_pop_low_sustainable\n"
     ]
    }
   ],
   "source": [
    "samples_df = load_queries()\n",
    "sasi, masi, mami = get_collective_distribution(samples_df, model=\"GPTo4Mini\", method=\"prototype_test_prompting_few_shot\", mami_round=7)"
   ]
  },
  {
   "cell_type": "markdown",
   "id": "bc22e916-46f6-46d8-9cf1-e0c1c6cb24d6",
   "metadata": {},
   "source": [
    "## Pairwise T-Test"
   ]
  },
  {
   "cell_type": "code",
   "execution_count": 10,
   "id": "e582892b-585a-45a9-9de4-51c3f9853517",
   "metadata": {},
   "outputs": [
    {
     "name": "stdout",
     "output_type": "stream",
     "text": [
      "t-statistic: -13.055754365912268\n",
      "p-value: 9.814523884560742e-17\n",
      "The difference is statistically significant (reject H0).\n"
     ]
    }
   ],
   "source": [
    "from scipy.stats import ttest_rel\n",
    "\n",
    "t_stat, p_value = ttest_rel(sasi, mami)\n",
    "\n",
    "print(\"t-statistic:\", t_stat)\n",
    "print(\"p-value:\", p_value)\n",
    "\n",
    "# Interpretation\n",
    "alpha = 0.05\n",
    "if p_value < alpha:\n",
    "    print(\"The difference is statistically significant (reject H0).\")\n",
    "else:\n",
    "    print(\"The difference is not statistically significant (fail to reject H0).\")"
   ]
  },
  {
   "cell_type": "markdown",
   "id": "2a985246-9508-4ea8-8d60-566eb7ca463c",
   "metadata": {},
   "source": [
    "## One-Way ANOVA"
   ]
  },
  {
   "cell_type": "code",
   "execution_count": 11,
   "id": "8d92728e-ccf4-4227-be70-e58a8cce76b7",
   "metadata": {},
   "outputs": [
    {
     "name": "stdout",
     "output_type": "stream",
     "text": [
      "ANOVA F-statistic: 102.59524313642473\n",
      "ANOVA p-value: 1.3125287510355047e-27\n",
      "At least one group differs significantly (ANOVA significant).\n",
      "\n",
      "Bonferroni-corrected alpha: 0.0167\n",
      "sasi vs masi --> t-stat: -14.473, p: 0.0000 => Significant\n",
      "sasi vs mami --> t-stat: -12.977, p: 0.0000 => Significant\n",
      "masi vs mami --> t-stat: -0.249, p: 0.8036 => Not significant\n"
     ]
    }
   ],
   "source": [
    "## Anova\n",
    "\n",
    "from scipy.stats import f_oneway, ttest_ind\n",
    "from itertools import combinations\n",
    "import numpy as np\n",
    "\n",
    "# Step 1: One-way ANOVA\n",
    "f_stat, p_anova = f_oneway(sasi, masi, mami)\n",
    "print(\"ANOVA F-statistic:\", f_stat)\n",
    "print(\"ANOVA p-value:\", p_anova)\n",
    "\n",
    "# Step 2: If ANOVA is significant, do pairwise t-tests with Bonferroni correction\n",
    "alpha = 0.05\n",
    "if p_anova < alpha:\n",
    "    print(\"At least one group differs significantly (ANOVA significant).\")\n",
    "    # Do pairwise t-tests\n",
    "    groups = {'is_baseline': sasi, 'masi': masi, 'mami': mami}\n",
    "    combos = list(combinations(groups.keys(), 2))\n",
    "    corrected_alpha = alpha / len(combos)  # Bonferroni correction\n",
    "    print(f\"\\nBonferroni-corrected alpha: {corrected_alpha:.4f}\")\n",
    "    for g1, g2 in combos:\n",
    "        t_stat, p_val = ttest_ind(groups[g1], groups[g2])\n",
    "        print(f\"{g1} vs {g2} --> t-stat: {t_stat:.3f}, p: {p_val:.4f}\", \n",
    "              \"=> Significant\" if p_val < corrected_alpha else \"=> Not significant\")\n",
    "else:\n",
    "    print(\"No significant differences found between group means (ANOVA not significant).\")"
   ]
  },
  {
   "cell_type": "code",
   "execution_count": 19,
   "id": "c0177976-e56f-4759-a2b1-71950b94db16",
   "metadata": {},
   "outputs": [
    {
     "name": "stdout",
     "output_type": "stream",
     "text": [
      "Test Multiple Comparison ttest_ind \n",
      "FWER=0.05 method=bonf\n",
      "alphacSidak=0.02, alphacBonf=0.017\n",
      "=============================================\n",
      "group1 group2   stat   pval  pval_corr reject\n",
      "---------------------------------------------\n",
      "     A      B -7.2732 0.0019    0.0057   True\n",
      "     A      C  3.1623 0.0341    0.1023  False\n",
      "     B      C 13.4722 0.0002    0.0005   True\n",
      "---------------------------------------------\n"
     ]
    }
   ],
   "source": [
    "import numpy as np\n",
    "import pandas as pd\n",
    "from statsmodels.sandbox.stats.multicomp import MultiComparison\n",
    "from scipy.stats import ttest_ind\n",
    "\n",
    "# Example data\n",
    "data = pd.DataFrame({\n",
    "    'value': [23, 20, 21, 30, 28, 29, 17, 19, 18],\n",
    "    'group': ['A', 'A', 'A', 'B', 'B', 'B', 'C', 'C', 'C']\n",
    "})\n",
    "\n",
    "# Create MultiComparison object\n",
    "mc = MultiComparison(sasi, masi)\n",
    "\n",
    "# Perform all pairwise independent t-tests with Bonferroni correction\n",
    "result = mc.allpairtest(ttest_ind, method='bonf')\n",
    "\n",
    "# Print summary\n",
    "print(result[0])"
   ]
  },
  {
   "cell_type": "code",
   "execution_count": null,
   "id": "c834e2f4-cd90-4e0f-9151-79f837804088",
   "metadata": {},
   "outputs": [],
   "source": []
  }
 ],
 "metadata": {
  "kernelspec": {
   "display_name": ".crs-venv",
   "language": "python",
   "name": ".crs-venv"
  },
  "language_info": {
   "codemirror_mode": {
    "name": "ipython",
    "version": 3
   },
   "file_extension": ".py",
   "mimetype": "text/x-python",
   "name": "python",
   "nbconvert_exporter": "python",
   "pygments_lexer": "ipython3",
   "version": "3.10.15"
  }
 },
 "nbformat": 4,
 "nbformat_minor": 5
}
