{
 "cells": [
  {
   "cell_type": "code",
   "execution_count": 1,
   "metadata": {},
   "outputs": [],
   "source": [
    "import pandas as pd \n",
    "import numpy as np \n",
    "import os \n",
    "import sys \n",
    "import re \n",
    "import json \n",
    "import ast"
   ]
  },
  {
   "cell_type": "code",
   "execution_count": 3,
   "metadata": {},
   "outputs": [],
   "source": [
    "rounds = 10"
   ]
  },
  {
   "cell_type": "code",
   "execution_count": 4,
   "metadata": {},
   "outputs": [],
   "source": [
    "sasi = pd.read_csv(\"../../data/conv-trs/multi-agent/results/sasi_results.csv\")"
   ]
  },
  {
   "cell_type": "code",
   "execution_count": 5,
   "metadata": {},
   "outputs": [],
   "source": [
    "sasi_gemini = sasi[['config_id', 'config', 'query', 'response_Gemini2Flash']]"
   ]
  },
  {
   "cell_type": "code",
   "execution_count": 6,
   "metadata": {},
   "outputs": [],
   "source": [
    "# mami_dir = \"../../data/conv-trs/multi-agent/results/prototype_updated_relevance/gemini2flash/states/\"\n",
    "# mami_dir = \"../../data/conv-trs/multi-agent/results/prototype/gemini2flash/states/\" # for default\n",
    "\n",
    "mami_dir = \"../../data/conv-trs/multi-agent/results/prompt_ranking_aggressive/gemini2point5flash/states/\"\n",
    "\n",
    "mami_results = [] \n",
    "\n",
    "for file in os.listdir(mami_dir):\n",
    "    config_id = (file.split(\"states_\")[1]).split(\".json\")[0]\n",
    "    \n",
    "    with open(f\"{mami_dir}{file}\", \"r\") as f: \n",
    "        data = json.load(f)\n",
    "\n",
    "    final_offer = data[str(rounds-1)][\"collective\"][\"offers\"]\n",
    "    final_city_scores = data[str(rounds-1)][\"collective\"][\"city_scores\"]\n",
    "\n",
    "    mami_results.append({\n",
    "        \"config_id\": config_id, \n",
    "        \"response_mami\": final_offer, \n",
    "        \"city_scores_mami\": final_city_scores\n",
    "    })\n"
   ]
  },
  {
   "cell_type": "code",
   "execution_count": 7,
   "metadata": {},
   "outputs": [
    {
     "data": {
      "text/html": [
       "<div>\n",
       "<style scoped>\n",
       "    .dataframe tbody tr th:only-of-type {\n",
       "        vertical-align: middle;\n",
       "    }\n",
       "\n",
       "    .dataframe tbody tr th {\n",
       "        vertical-align: top;\n",
       "    }\n",
       "\n",
       "    .dataframe thead th {\n",
       "        text-align: right;\n",
       "    }\n",
       "</style>\n",
       "<table border=\"1\" class=\"dataframe\">\n",
       "  <thead>\n",
       "    <tr style=\"text-align: right;\">\n",
       "      <th></th>\n",
       "      <th>config_id</th>\n",
       "      <th>response_mami</th>\n",
       "      <th>city_scores_mami</th>\n",
       "    </tr>\n",
       "  </thead>\n",
       "  <tbody>\n",
       "    <tr>\n",
       "      <th>0</th>\n",
       "      <td>c_p_98_pop_medium_medium</td>\n",
       "      <td>[Innsbruck, Bern, Salzburg, Sarajevo, Ljubljan...</td>\n",
       "      <td>{'Aalborg': 0.0, 'Adana': 0.0, 'Adiyaman': 0.0...</td>\n",
       "    </tr>\n",
       "    <tr>\n",
       "      <th>1</th>\n",
       "      <td>c_p_196_pop_medium_hard</td>\n",
       "      <td>[Innsbruck, Bern, Bergen, Salzburg, Ljubljana,...</td>\n",
       "      <td>{'Adana': 0.0, 'Adiyaman': 0.0, 'Agri': 0.0, '...</td>\n",
       "    </tr>\n",
       "    <tr>\n",
       "      <th>2</th>\n",
       "      <td>c_p_24_pop_low_medium</td>\n",
       "      <td>[Ljubljana, Sarajevo, Perugia, Plovdiv, Coimbr...</td>\n",
       "      <td>{'Adana': 0.0, 'Adiyaman': 0.0, 'Amsterdam': 6...</td>\n",
       "    </tr>\n",
       "    <tr>\n",
       "      <th>3</th>\n",
       "      <td>c_p_77_pop_low_medium</td>\n",
       "      <td>[Brno, Cluj-Napoca, Poznan, Lodz, Iasi, Braga,...</td>\n",
       "      <td>{'Aalborg': 0.0, 'Adana': 0.0, 'Adiyaman': 0.0...</td>\n",
       "    </tr>\n",
       "    <tr>\n",
       "      <th>4</th>\n",
       "      <td>c_p_133_pop_medium_medium</td>\n",
       "      <td>[Bologna, Strasbourg, Maastricht, Gdansk, Dres...</td>\n",
       "      <td>{'Adana': 0.0, 'Adiyaman': 0.0, 'Agri': 0.0, '...</td>\n",
       "    </tr>\n",
       "  </tbody>\n",
       "</table>\n",
       "</div>"
      ],
      "text/plain": [
       "                   config_id  \\\n",
       "0   c_p_98_pop_medium_medium   \n",
       "1    c_p_196_pop_medium_hard   \n",
       "2      c_p_24_pop_low_medium   \n",
       "3      c_p_77_pop_low_medium   \n",
       "4  c_p_133_pop_medium_medium   \n",
       "\n",
       "                                       response_mami  \\\n",
       "0  [Innsbruck, Bern, Salzburg, Sarajevo, Ljubljan...   \n",
       "1  [Innsbruck, Bern, Bergen, Salzburg, Ljubljana,...   \n",
       "2  [Ljubljana, Sarajevo, Perugia, Plovdiv, Coimbr...   \n",
       "3  [Brno, Cluj-Napoca, Poznan, Lodz, Iasi, Braga,...   \n",
       "4  [Bologna, Strasbourg, Maastricht, Gdansk, Dres...   \n",
       "\n",
       "                                    city_scores_mami  \n",
       "0  {'Aalborg': 0.0, 'Adana': 0.0, 'Adiyaman': 0.0...  \n",
       "1  {'Adana': 0.0, 'Adiyaman': 0.0, 'Agri': 0.0, '...  \n",
       "2  {'Adana': 0.0, 'Adiyaman': 0.0, 'Amsterdam': 6...  \n",
       "3  {'Aalborg': 0.0, 'Adana': 0.0, 'Adiyaman': 0.0...  \n",
       "4  {'Adana': 0.0, 'Adiyaman': 0.0, 'Agri': 0.0, '...  "
      ]
     },
     "execution_count": 7,
     "metadata": {},
     "output_type": "execute_result"
    }
   ],
   "source": [
    "mami_df = pd.DataFrame(mami_results)\n",
    "mami_df.head()"
   ]
  },
  {
   "cell_type": "code",
   "execution_count": null,
   "metadata": {},
   "outputs": [],
   "source": [
    "gemini_results_df = pd.merge(\n",
    "    left=sasi_gemini,\n",
    "    right=mami_df, \n",
    "    on=[\"config_id\"],\n",
    "    how=\"inner\"\n",
    ")"
   ]
  },
  {
   "cell_type": "code",
   "execution_count": null,
   "metadata": {},
   "outputs": [],
   "source": [
    "gemini_results_df.head()"
   ]
  },
  {
   "cell_type": "code",
   "execution_count": null,
   "metadata": {},
   "outputs": [],
   "source": [
    "configs_df = pd.read_json(f\"../../data/conv-trs/kg-generation/new-kg/configs/retrieved_filtered_personas_configs.json\")\n",
    "def get_retrieved_cities(config_id):\n",
    "    return configs_df[configs_df['config_id'] == config_id]['cities'].values[0]"
   ]
  },
  {
   "cell_type": "code",
   "execution_count": null,
   "metadata": {},
   "outputs": [],
   "source": [
    "gemini_results_df[\"context_cities\"] = gemini_results_df['config_id'].apply(get_retrieved_cities)"
   ]
  },
  {
   "cell_type": "code",
   "execution_count": null,
   "metadata": {},
   "outputs": [],
   "source": [
    "gemini_results_df.head()"
   ]
  },
  {
   "cell_type": "code",
   "execution_count": null,
   "metadata": {},
   "outputs": [],
   "source": [
    "gemini_results_df['response_Gemini2Flash'] = gemini_results_df['response_Gemini2Flash'].apply(ast.literal_eval)"
   ]
  },
  {
   "cell_type": "markdown",
   "metadata": {},
   "source": [
    "### Computing hit rate "
   ]
  },
  {
   "cell_type": "code",
   "execution_count": null,
   "metadata": {},
   "outputs": [],
   "source": [
    "low_pop_df = gemini_results_df[gemini_results_df['config_id'].str.contains(\"pop_low\")]"
   ]
  },
  {
   "cell_type": "code",
   "execution_count": null,
   "metadata": {},
   "outputs": [],
   "source": [
    "# low_pop_df=gemini_results_df"
   ]
  },
  {
   "cell_type": "code",
   "execution_count": null,
   "metadata": {},
   "outputs": [],
   "source": [
    "# Compute intersection size for each row\n",
    "low_pop_df['intersection_sasi'] = low_pop_df.apply(\n",
    "    lambda row: len(set(row['response_Gemini2Flash']).intersection(row['context_cities'])), axis=1\n",
    ")\n",
    "\n",
    "# Compute the average intersection size\n",
    "average_intersection = low_pop_df['intersection_sasi'].mean()\n",
    "\n",
    "print(\"Average Intersection between SASI results and Context Cities for Gemini:\", average_intersection)"
   ]
  },
  {
   "cell_type": "code",
   "execution_count": null,
   "metadata": {},
   "outputs": [],
   "source": [
    "# Compute intersection size for each row\n",
    "low_pop_df['intersection_mami'] = low_pop_df.apply(\n",
    "    lambda row: len(set(row['response_mami']).intersection(row['context_cities'])), axis=1\n",
    ")\n",
    "\n",
    "# Compute the average intersection size\n",
    "average_intersection = low_pop_df['intersection_mami'].mean()\n",
    "\n",
    "print(\"Average Intersection between MAMI results and Context Cities for Gemini:\", average_intersection)"
   ]
  },
  {
   "cell_type": "code",
   "execution_count": null,
   "metadata": {},
   "outputs": [],
   "source": []
  }
 ],
 "metadata": {
  "kernelspec": {
   "display_name": "Python 3 (ipykernel)",
   "language": "python",
   "name": "python3"
  },
  "language_info": {
   "codemirror_mode": {
    "name": "ipython",
    "version": 3
   },
   "file_extension": ".py",
   "mimetype": "text/x-python",
   "name": "python",
   "nbconvert_exporter": "python",
   "pygments_lexer": "ipython3",
   "version": "3.10.15"
  }
 },
 "nbformat": 4,
 "nbformat_minor": 4
}
