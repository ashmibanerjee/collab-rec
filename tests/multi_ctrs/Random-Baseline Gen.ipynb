{
 "cells": [
  {
   "cell_type": "code",
   "execution_count": 1,
   "id": "initial_id",
   "metadata": {
    "ExecuteTime": {
     "end_time": "2025-08-12T09:39:40.782771Z",
     "start_time": "2025-08-12T09:39:40.779904Z"
    }
   },
   "outputs": [],
   "source": [
    "import pandas as pd\n",
    "from helpers import *\n",
    "import random"
   ]
  },
  {
   "cell_type": "code",
   "execution_count": 2,
   "id": "e1388e2d-34df-458c-9928-4ecd45e528f9",
   "metadata": {},
   "outputs": [],
   "source": [
    "%load_ext autoreload\n",
    "%autoreload 2"
   ]
  },
  {
   "cell_type": "markdown",
   "id": "f04bca07-31f6-41ca-bb2e-183871d3bb18",
   "metadata": {},
   "source": [
    "## Random Baseline Generation"
   ]
  },
  {
   "cell_type": "code",
   "execution_count": 3,
   "id": "57883a53173a4eb8",
   "metadata": {
    "ExecuteTime": {
     "end_time": "2025-08-12T09:32:47.275129Z",
     "start_time": "2025-08-12T09:32:47.262643Z"
    }
   },
   "outputs": [
    {
     "name": "stdout",
     "output_type": "stream",
     "text": [
      "<class 'pandas.core.frame.DataFrame'>\n",
      "RangeIndex: 45 entries, 0 to 44\n",
      "Data columns (total 4 columns):\n",
      " #   Column     Non-Null Count  Dtype \n",
      "---  ------     --------------  ----- \n",
      " 0   config_id  45 non-null     object\n",
      " 1   config     45 non-null     object\n",
      " 2   city       45 non-null     object\n",
      " 3   query_v    45 non-null     object\n",
      "dtypes: object(4)\n",
      "memory usage: 1.5+ KB\n",
      "None\n"
     ]
    },
    {
     "data": {
      "text/html": [
       "<div>\n",
       "<style scoped>\n",
       "    .dataframe tbody tr th:only-of-type {\n",
       "        vertical-align: middle;\n",
       "    }\n",
       "\n",
       "    .dataframe tbody tr th {\n",
       "        vertical-align: top;\n",
       "    }\n",
       "\n",
       "    .dataframe thead th {\n",
       "        text-align: right;\n",
       "    }\n",
       "</style>\n",
       "<table border=\"1\" class=\"dataframe\">\n",
       "  <thead>\n",
       "    <tr style=\"text-align: right;\">\n",
       "      <th></th>\n",
       "      <th>config_id</th>\n",
       "      <th>config</th>\n",
       "      <th>city</th>\n",
       "      <th>query_v</th>\n",
       "    </tr>\n",
       "  </thead>\n",
       "  <tbody>\n",
       "    <tr>\n",
       "      <th>0</th>\n",
       "      <td>c_p_143_pop_high_hard</td>\n",
       "      <td>{'p_id': 'p_143', 'persona': 'A former printin...</td>\n",
       "      <td>['Zurich', 'Warsaw', 'Vienna', 'Valencia', 'To...</td>\n",
       "      <td>\"Recommend European cities for a high-budget t...</td>\n",
       "    </tr>\n",
       "    <tr>\n",
       "      <th>1</th>\n",
       "      <td>c_p_15_pop_high_hard</td>\n",
       "      <td>{'p_id': 'p_15', 'persona': 'A patient who see...</td>\n",
       "      <td>['Zurich', 'Vienna', 'Stuttgart', 'Stockholm',...</td>\n",
       "      <td>\"High budget European cities to visit in Decem...</td>\n",
       "    </tr>\n",
       "    <tr>\n",
       "      <th>2</th>\n",
       "      <td>c_p_5_pop_high_hard</td>\n",
       "      <td>{'p_id': 'p_5', 'persona': 'an average Ukraini...</td>\n",
       "      <td>['Zurich', 'Warsaw', 'Valencia', 'Toulouse', '...</td>\n",
       "      <td>\"Popular and expensive European cities to visi...</td>\n",
       "    </tr>\n",
       "    <tr>\n",
       "      <th>3</th>\n",
       "      <td>c_p_155_pop_high_hard</td>\n",
       "      <td>{'p_id': 'p_155', 'persona': 'a digital transf...</td>\n",
       "      <td>['Zurich', 'Warsaw', 'Valencia', 'Toulouse', '...</td>\n",
       "      <td>\"European city breaks in September with high-e...</td>\n",
       "    </tr>\n",
       "    <tr>\n",
       "      <th>4</th>\n",
       "      <td>c_p_116_pop_high_hard</td>\n",
       "      <td>{'p_id': 'p_116', 'persona': 'An entrepreneuri...</td>\n",
       "      <td>['Zurich', 'Warsaw', 'Valencia', 'Toulouse', '...</td>\n",
       "      <td>High budget European city breaks in October wi...</td>\n",
       "    </tr>\n",
       "  </tbody>\n",
       "</table>\n",
       "</div>"
      ],
      "text/plain": [
       "               config_id                                             config  \\\n",
       "0  c_p_143_pop_high_hard  {'p_id': 'p_143', 'persona': 'A former printin...   \n",
       "1   c_p_15_pop_high_hard  {'p_id': 'p_15', 'persona': 'A patient who see...   \n",
       "2    c_p_5_pop_high_hard  {'p_id': 'p_5', 'persona': 'an average Ukraini...   \n",
       "3  c_p_155_pop_high_hard  {'p_id': 'p_155', 'persona': 'a digital transf...   \n",
       "4  c_p_116_pop_high_hard  {'p_id': 'p_116', 'persona': 'An entrepreneuri...   \n",
       "\n",
       "                                                city  \\\n",
       "0  ['Zurich', 'Warsaw', 'Vienna', 'Valencia', 'To...   \n",
       "1  ['Zurich', 'Vienna', 'Stuttgart', 'Stockholm',...   \n",
       "2  ['Zurich', 'Warsaw', 'Valencia', 'Toulouse', '...   \n",
       "3  ['Zurich', 'Warsaw', 'Valencia', 'Toulouse', '...   \n",
       "4  ['Zurich', 'Warsaw', 'Valencia', 'Toulouse', '...   \n",
       "\n",
       "                                             query_v  \n",
       "0  \"Recommend European cities for a high-budget t...  \n",
       "1  \"High budget European cities to visit in Decem...  \n",
       "2  \"Popular and expensive European cities to visi...  \n",
       "3  \"European city breaks in September with high-e...  \n",
       "4  High budget European city breaks in October wi...  "
      ]
     },
     "execution_count": 3,
     "metadata": {},
     "output_type": "execute_result"
    }
   ],
   "source": [
    "file_name = \"../../input-data/queries.csv\"\n",
    "queries_df = pd.read_csv(file_name)\n",
    "print(queries_df.info())\n",
    "queries_df.head()"
   ]
  },
  {
   "cell_type": "code",
   "execution_count": 4,
   "id": "1da7995f948e4dc1",
   "metadata": {
    "ExecuteTime": {
     "end_time": "2025-08-12T09:36:08.785405Z",
     "start_time": "2025-08-12T09:36:08.750606Z"
    }
   },
   "outputs": [
    {
     "name": "stdout",
     "output_type": "stream",
     "text": [
      "4767\n"
     ]
    },
    {
     "data": {
      "text/html": [
       "<div>\n",
       "<style scoped>\n",
       "    .dataframe tbody tr th:only-of-type {\n",
       "        vertical-align: middle;\n",
       "    }\n",
       "\n",
       "    .dataframe tbody tr th {\n",
       "        vertical-align: top;\n",
       "    }\n",
       "\n",
       "    .dataframe thead th {\n",
       "        text-align: right;\n",
       "    }\n",
       "</style>\n",
       "<table border=\"1\" class=\"dataframe\">\n",
       "  <thead>\n",
       "    <tr style=\"text-align: right;\">\n",
       "      <th></th>\n",
       "      <th>city</th>\n",
       "      <th>country</th>\n",
       "      <th>budget</th>\n",
       "      <th>walkability</th>\n",
       "      <th>aqi</th>\n",
       "      <th>popularity</th>\n",
       "      <th>low_season</th>\n",
       "      <th>medium_season</th>\n",
       "      <th>high_season</th>\n",
       "      <th>interest_type</th>\n",
       "      <th>interest_title</th>\n",
       "      <th>interest_text</th>\n",
       "    </tr>\n",
       "  </thead>\n",
       "  <tbody>\n",
       "    <tr>\n",
       "      <th>0</th>\n",
       "      <td>Aalborg</td>\n",
       "      <td>Denmark</td>\n",
       "      <td>High</td>\n",
       "      <td>Great</td>\n",
       "      <td>Moderate</td>\n",
       "      <td>Medium</td>\n",
       "      <td>['January', 'February', 'March', 'April', 'Nov...</td>\n",
       "      <td>['May', 'September', 'October']</td>\n",
       "      <td>['June', 'July', 'August']</td>\n",
       "      <td>see</td>\n",
       "      <td>Aalborg Akvavit</td>\n",
       "      <td>Aalborg Akvavit: Distillery.</td>\n",
       "    </tr>\n",
       "    <tr>\n",
       "      <th>1</th>\n",
       "      <td>Aalborg</td>\n",
       "      <td>Denmark</td>\n",
       "      <td>High</td>\n",
       "      <td>Great</td>\n",
       "      <td>Moderate</td>\n",
       "      <td>Medium</td>\n",
       "      <td>['January', 'February', 'March', 'April', 'Nov...</td>\n",
       "      <td>['May', 'September', 'October']</td>\n",
       "      <td>['June', 'July', 'August']</td>\n",
       "      <td>see</td>\n",
       "      <td>Aalborghus Castle</td>\n",
       "      <td>Aalborghus Castle: A castle and garden from th...</td>\n",
       "    </tr>\n",
       "    <tr>\n",
       "      <th>2</th>\n",
       "      <td>Aalborg</td>\n",
       "      <td>Denmark</td>\n",
       "      <td>High</td>\n",
       "      <td>Great</td>\n",
       "      <td>Moderate</td>\n",
       "      <td>Medium</td>\n",
       "      <td>['January', 'February', 'March', 'April', 'Nov...</td>\n",
       "      <td>['May', 'September', 'October']</td>\n",
       "      <td>['June', 'July', 'August']</td>\n",
       "      <td>see</td>\n",
       "      <td>Aalborg Townhall</td>\n",
       "      <td>Aalborg Townhall: Built in 1759.</td>\n",
       "    </tr>\n",
       "    <tr>\n",
       "      <th>3</th>\n",
       "      <td>Aalborg</td>\n",
       "      <td>Denmark</td>\n",
       "      <td>High</td>\n",
       "      <td>Great</td>\n",
       "      <td>Moderate</td>\n",
       "      <td>Medium</td>\n",
       "      <td>['January', 'February', 'March', 'April', 'Nov...</td>\n",
       "      <td>['May', 'September', 'October']</td>\n",
       "      <td>['June', 'July', 'August']</td>\n",
       "      <td>see</td>\n",
       "      <td>Aalborg Zoo</td>\n",
       "      <td>Aalborg Zoo: Cosy zoo with many \"classic\" zoo ...</td>\n",
       "    </tr>\n",
       "    <tr>\n",
       "      <th>4</th>\n",
       "      <td>Aalborg</td>\n",
       "      <td>Denmark</td>\n",
       "      <td>High</td>\n",
       "      <td>Great</td>\n",
       "      <td>Moderate</td>\n",
       "      <td>Medium</td>\n",
       "      <td>['January', 'February', 'March', 'April', 'Nov...</td>\n",
       "      <td>['May', 'September', 'October']</td>\n",
       "      <td>['June', 'July', 'August']</td>\n",
       "      <td>see</td>\n",
       "      <td>Elbjørn</td>\n",
       "      <td>Elbjørn: Icebreaker now working as a restauran...</td>\n",
       "    </tr>\n",
       "  </tbody>\n",
       "</table>\n",
       "</div>"
      ],
      "text/plain": [
       "      city  country budget walkability       aqi popularity  \\\n",
       "0  Aalborg  Denmark   High       Great  Moderate     Medium   \n",
       "1  Aalborg  Denmark   High       Great  Moderate     Medium   \n",
       "2  Aalborg  Denmark   High       Great  Moderate     Medium   \n",
       "3  Aalborg  Denmark   High       Great  Moderate     Medium   \n",
       "4  Aalborg  Denmark   High       Great  Moderate     Medium   \n",
       "\n",
       "                                          low_season  \\\n",
       "0  ['January', 'February', 'March', 'April', 'Nov...   \n",
       "1  ['January', 'February', 'March', 'April', 'Nov...   \n",
       "2  ['January', 'February', 'March', 'April', 'Nov...   \n",
       "3  ['January', 'February', 'March', 'April', 'Nov...   \n",
       "4  ['January', 'February', 'March', 'April', 'Nov...   \n",
       "\n",
       "                     medium_season                 high_season interest_type  \\\n",
       "0  ['May', 'September', 'October']  ['June', 'July', 'August']           see   \n",
       "1  ['May', 'September', 'October']  ['June', 'July', 'August']           see   \n",
       "2  ['May', 'September', 'October']  ['June', 'July', 'August']           see   \n",
       "3  ['May', 'September', 'October']  ['June', 'July', 'August']           see   \n",
       "4  ['May', 'September', 'October']  ['June', 'July', 'August']           see   \n",
       "\n",
       "      interest_title                                      interest_text  \n",
       "0    Aalborg Akvavit                       Aalborg Akvavit: Distillery.  \n",
       "1  Aalborghus Castle  Aalborghus Castle: A castle and garden from th...  \n",
       "2   Aalborg Townhall                   Aalborg Townhall: Built in 1759.  \n",
       "3        Aalborg Zoo  Aalborg Zoo: Cosy zoo with many \"classic\" zoo ...  \n",
       "4            Elbjørn  Elbjørn: Icebreaker now working as a restauran...  "
      ]
     },
     "execution_count": 4,
     "metadata": {},
     "output_type": "execute_result"
    }
   ],
   "source": [
    "kb = pd.read_csv(\"../../input-data/kb/eu-cities-database.csv\")\n",
    "print(len(kb))\n",
    "kb.head()"
   ]
  },
  {
   "cell_type": "code",
   "execution_count": 5,
   "id": "f50e318499a6ce22",
   "metadata": {
    "ExecuteTime": {
     "end_time": "2025-08-12T09:41:51.445473Z",
     "start_time": "2025-08-12T09:41:51.441545Z"
    }
   },
   "outputs": [
    {
     "name": "stdout",
     "output_type": "stream",
     "text": [
      "200\n",
      "['Bordeaux', 'Sarajevo', 'Mus', 'Rouen', 'Perm', 'Rijeka', 'Kharkiv', 'Pristina', 'Elazig', 'Erfurt']\n"
     ]
    }
   ],
   "source": [
    "kb_cities = list(set(kb['city'].tolist()))\n",
    "print(len(kb_cities))\n",
    "print(kb_cities [:10])"
   ]
  },
  {
   "cell_type": "code",
   "execution_count": 6,
   "id": "fb87eb3ac90704a8",
   "metadata": {
    "ExecuteTime": {
     "end_time": "2025-08-12T09:50:09.993368Z",
     "start_time": "2025-08-12T09:50:09.988890Z"
    }
   },
   "outputs": [],
   "source": [
    "def generate_random_cities(k=10, seed=42, kb_cities: list = None):\n",
    "    \"\"\"\n",
    "    Generate a random list of k cities from the given kb_cities list.\n",
    "\n",
    "    Parameters:\n",
    "    - k (int): Number of cities to sample.\n",
    "    - seed (int): Random seed for reproducibility.\n",
    "    - kb_cities (list): List of available cities to sample from.\n",
    "\n",
    "    Returns:\n",
    "    - list: A list of k randomly sampled cities.\n",
    "\n",
    "    Raises:\n",
    "    - ValueError: If kb_cities is None or if k > len(kb_cities).\n",
    "    \"\"\"\n",
    "    if kb_cities is None:\n",
    "        raise ValueError(\"kb_cities must be provided.\")\n",
    "\n",
    "    if k > len(kb_cities):\n",
    "        raise ValueError(f\"k ({k}) cannot be greater than the number of available cities ({len(kb_cities)}).\")\n",
    "\n",
    "    random.seed(seed)\n",
    "    return random.sample(kb_cities, k)\n"
   ]
  },
  {
   "cell_type": "code",
   "execution_count": 7,
   "id": "85f47b9db6559626",
   "metadata": {
    "ExecuteTime": {
     "end_time": "2025-08-12T09:50:10.464543Z",
     "start_time": "2025-08-12T09:50:10.449390Z"
    }
   },
   "outputs": [],
   "source": [
    "queries = queries_df['query_v'].tolist()\n",
    "random_cities_results = []\n",
    "SEEDS = [\n",
    "    42, 7, 19, 83, 101, 256, 999, 123, 987, 65,\n",
    "    300, 14, 29, 77, 55, 321, 444, 678, 890, 12,\n",
    "    34, 56, 78, 90, 135, 246, 357, 468, 579, 680,\n",
    "    791, 802, 913, 111, 222, 333, 4444, 5555, 6666,\n",
    "    7777, 8888, 9999, 2025, 3141, 2718, 1618, 9090\n",
    "]\n",
    "for (q, seed) in zip(queries, SEEDS):\n",
    "    random_cities_list = generate_random_cities(k=10, seed=seed, kb_cities = kb_cities)\n",
    "    random_cities_results.append(random_cities_list)\n",
    "queries_df[\"random_baseline\"] = random_cities_results"
   ]
  },
  {
   "cell_type": "code",
   "execution_count": 8,
   "id": "ce5d3ecbbeecb5cf",
   "metadata": {},
   "outputs": [
    {
     "name": "stdout",
     "output_type": "stream",
     "text": [
      "               config_id                                             config  \\\n",
      "0  c_p_143_pop_high_hard  {'p_id': 'p_143', 'persona': 'A former printin...   \n",
      "1   c_p_15_pop_high_hard  {'p_id': 'p_15', 'persona': 'A patient who see...   \n",
      "2    c_p_5_pop_high_hard  {'p_id': 'p_5', 'persona': 'an average Ukraini...   \n",
      "3  c_p_155_pop_high_hard  {'p_id': 'p_155', 'persona': 'a digital transf...   \n",
      "4  c_p_116_pop_high_hard  {'p_id': 'p_116', 'persona': 'An entrepreneuri...   \n",
      "\n",
      "                                                city  \\\n",
      "0  ['Zurich', 'Warsaw', 'Vienna', 'Valencia', 'To...   \n",
      "1  ['Zurich', 'Vienna', 'Stuttgart', 'Stockholm',...   \n",
      "2  ['Zurich', 'Warsaw', 'Valencia', 'Toulouse', '...   \n",
      "3  ['Zurich', 'Warsaw', 'Valencia', 'Toulouse', '...   \n",
      "4  ['Zurich', 'Warsaw', 'Valencia', 'Toulouse', '...   \n",
      "\n",
      "                                             query_v  \\\n",
      "0  \"Recommend European cities for a high-budget t...   \n",
      "1  \"High budget European cities to visit in Decem...   \n",
      "2  \"Popular and expensive European cities to visi...   \n",
      "3  \"European city breaks in September with high-e...   \n",
      "4  High budget European city breaks in October wi...   \n",
      "\n",
      "                                     random_baseline  \n",
      "0  [Vinnytsia, Barcelona, Kharkiv, Ioannina, Tira...  \n",
      "1  [Tbilisi, Timisoara, Nalchik, Kaliningrad, Lvi...  \n",
      "2  [Vitoria-Gasteiz, Siirt, Amsterdam, Krasnodar,...  \n",
      "3  [Istanbul, Copenhagen, Uzhhorod, Debrecen, Con...  \n",
      "4  [Varna, Satu Mare, Brno, Petrozavodsk, Donetsk...  \n"
     ]
    }
   ],
   "source": [
    "print(queries_df.head())\n",
    "\n",
    "queries_df.to_csv(\"../../data/conv-trs/multi-agent/results/non-llm-baselines/random_baseline.csv\", index=False)"
   ]
  },
  {
   "cell_type": "markdown",
   "id": "ca77c710-05bc-44a4-87f8-cf6a1e0dd1ab",
   "metadata": {},
   "source": [
    "## Analysis"
   ]
  },
  {
   "cell_type": "markdown",
   "id": "a935a678-3543-43ef-8b07-5da456fa1909",
   "metadata": {},
   "source": [
    "### Diversity"
   ]
  },
  {
   "cell_type": "code",
   "execution_count": 9,
   "id": "4f835e78-effb-426f-af69-808970280ce3",
   "metadata": {
    "scrolled": true
   },
   "outputs": [
    {
     "name": "stdout",
     "output_type": "stream",
     "text": [
      "Average entropy for random baseline: 0.9077333333333333 \t 0.9790755555555557\n"
     ]
    },
    {
     "data": {
      "text/html": [
       "<div>\n",
       "<style scoped>\n",
       "    .dataframe tbody tr th:only-of-type {\n",
       "        vertical-align: middle;\n",
       "    }\n",
       "\n",
       "    .dataframe tbody tr th {\n",
       "        vertical-align: top;\n",
       "    }\n",
       "\n",
       "    .dataframe thead th {\n",
       "        text-align: right;\n",
       "    }\n",
       "</style>\n",
       "<table border=\"1\" class=\"dataframe\">\n",
       "  <thead>\n",
       "    <tr style=\"text-align: right;\">\n",
       "      <th></th>\n",
       "      <th>query_v</th>\n",
       "      <th>random_baseline</th>\n",
       "      <th>entropy</th>\n",
       "      <th>entropy2</th>\n",
       "    </tr>\n",
       "  </thead>\n",
       "  <tbody>\n",
       "    <tr>\n",
       "      <th>0</th>\n",
       "      <td>\"Recommend European cities for a high-budget t...</td>\n",
       "      <td>[Vinnytsia, Barcelona, Kharkiv, Ioannina, Tira...</td>\n",
       "      <td>0.861</td>\n",
       "      <td>0.9660</td>\n",
       "    </tr>\n",
       "    <tr>\n",
       "      <th>1</th>\n",
       "      <td>\"High budget European cities to visit in Decem...</td>\n",
       "      <td>[Tbilisi, Timisoara, Nalchik, Kaliningrad, Lvi...</td>\n",
       "      <td>0.907</td>\n",
       "      <td>0.9766</td>\n",
       "    </tr>\n",
       "    <tr>\n",
       "      <th>2</th>\n",
       "      <td>\"Popular and expensive European cities to visi...</td>\n",
       "      <td>[Vitoria-Gasteiz, Siirt, Amsterdam, Krasnodar,...</td>\n",
       "      <td>0.899</td>\n",
       "      <td>0.9748</td>\n",
       "    </tr>\n",
       "    <tr>\n",
       "      <th>3</th>\n",
       "      <td>\"European city breaks in September with high-e...</td>\n",
       "      <td>[Istanbul, Copenhagen, Uzhhorod, Debrecen, Con...</td>\n",
       "      <td>0.920</td>\n",
       "      <td>0.9703</td>\n",
       "    </tr>\n",
       "    <tr>\n",
       "      <th>4</th>\n",
       "      <td>High budget European city breaks in October wi...</td>\n",
       "      <td>[Varna, Satu Mare, Brno, Petrozavodsk, Donetsk...</td>\n",
       "      <td>0.943</td>\n",
       "      <td>0.9830</td>\n",
       "    </tr>\n",
       "  </tbody>\n",
       "</table>\n",
       "</div>"
      ],
      "text/plain": [
       "                                             query_v  \\\n",
       "0  \"Recommend European cities for a high-budget t...   \n",
       "1  \"High budget European cities to visit in Decem...   \n",
       "2  \"Popular and expensive European cities to visi...   \n",
       "3  \"European city breaks in September with high-e...   \n",
       "4  High budget European city breaks in October wi...   \n",
       "\n",
       "                                     random_baseline  entropy  entropy2  \n",
       "0  [Vinnytsia, Barcelona, Kharkiv, Ioannina, Tira...    0.861    0.9660  \n",
       "1  [Tbilisi, Timisoara, Nalchik, Kaliningrad, Lvi...    0.907    0.9766  \n",
       "2  [Vitoria-Gasteiz, Siirt, Amsterdam, Krasnodar,...    0.899    0.9748  \n",
       "3  [Istanbul, Copenhagen, Uzhhorod, Debrecen, Con...    0.920    0.9703  \n",
       "4  [Varna, Satu Mare, Brno, Petrozavodsk, Donetsk...    0.943    0.9830  "
      ]
     },
     "execution_count": 9,
     "metadata": {},
     "output_type": "execute_result"
    }
   ],
   "source": [
    "queries_df[\"entropy\"] = queries_df[\"random_baseline\"].apply(\n",
    "    lambda recs: compute_normalized_entropy(recs)[-1]\n",
    ")\n",
    "\n",
    "queries_df[\"entropy2\"] = queries_df[\"random_baseline\"].apply(compute_entropy_topPop)\n",
    "print(f\"Average entropy for random baseline: {queries_df['entropy'].mean()} \\t {queries_df['entropy2'].mean()}\")\n",
    "queries_df[[\"query_v\", \"random_baseline\", \"entropy\", \"entropy2\" ]].head()"
   ]
  },
  {
   "cell_type": "code",
   "execution_count": 10,
   "id": "60ec0024-07ee-4d7d-b7a3-24b7a25a360e",
   "metadata": {},
   "outputs": [
    {
     "name": "stdout",
     "output_type": "stream",
     "text": [
      "Average gini for random baseline: 0.41323328535523923 \n"
     ]
    },
    {
     "data": {
      "text/html": [
       "<div>\n",
       "<style scoped>\n",
       "    .dataframe tbody tr th:only-of-type {\n",
       "        vertical-align: middle;\n",
       "    }\n",
       "\n",
       "    .dataframe tbody tr th {\n",
       "        vertical-align: top;\n",
       "    }\n",
       "\n",
       "    .dataframe thead th {\n",
       "        text-align: right;\n",
       "    }\n",
       "</style>\n",
       "<table border=\"1\" class=\"dataframe\">\n",
       "  <thead>\n",
       "    <tr style=\"text-align: right;\">\n",
       "      <th></th>\n",
       "      <th>query_v</th>\n",
       "      <th>random_baseline</th>\n",
       "      <th>entropy</th>\n",
       "      <th>gini_index</th>\n",
       "    </tr>\n",
       "  </thead>\n",
       "  <tbody>\n",
       "    <tr>\n",
       "      <th>0</th>\n",
       "      <td>\"Recommend European cities for a high-budget t...</td>\n",
       "      <td>[Vinnytsia, Barcelona, Kharkiv, Ioannina, Tira...</td>\n",
       "      <td>0.861</td>\n",
       "      <td>0.477586</td>\n",
       "    </tr>\n",
       "    <tr>\n",
       "      <th>1</th>\n",
       "      <td>\"High budget European cities to visit in Decem...</td>\n",
       "      <td>[Tbilisi, Timisoara, Nalchik, Kaliningrad, Lvi...</td>\n",
       "      <td>0.907</td>\n",
       "      <td>0.397135</td>\n",
       "    </tr>\n",
       "    <tr>\n",
       "      <th>2</th>\n",
       "      <td>\"Popular and expensive European cities to visi...</td>\n",
       "      <td>[Vitoria-Gasteiz, Siirt, Amsterdam, Krasnodar,...</td>\n",
       "      <td>0.899</td>\n",
       "      <td>0.439560</td>\n",
       "    </tr>\n",
       "    <tr>\n",
       "      <th>3</th>\n",
       "      <td>\"European city breaks in September with high-e...</td>\n",
       "      <td>[Istanbul, Copenhagen, Uzhhorod, Debrecen, Con...</td>\n",
       "      <td>0.920</td>\n",
       "      <td>0.400278</td>\n",
       "    </tr>\n",
       "    <tr>\n",
       "      <th>4</th>\n",
       "      <td>High budget European city breaks in October wi...</td>\n",
       "      <td>[Varna, Satu Mare, Brno, Petrozavodsk, Donetsk...</td>\n",
       "      <td>0.943</td>\n",
       "      <td>0.329097</td>\n",
       "    </tr>\n",
       "  </tbody>\n",
       "</table>\n",
       "</div>"
      ],
      "text/plain": [
       "                                             query_v  \\\n",
       "0  \"Recommend European cities for a high-budget t...   \n",
       "1  \"High budget European cities to visit in Decem...   \n",
       "2  \"Popular and expensive European cities to visi...   \n",
       "3  \"European city breaks in September with high-e...   \n",
       "4  High budget European city breaks in October wi...   \n",
       "\n",
       "                                     random_baseline  entropy  gini_index  \n",
       "0  [Vinnytsia, Barcelona, Kharkiv, Ioannina, Tira...    0.861    0.477586  \n",
       "1  [Tbilisi, Timisoara, Nalchik, Kaliningrad, Lvi...    0.907    0.397135  \n",
       "2  [Vitoria-Gasteiz, Siirt, Amsterdam, Krasnodar,...    0.899    0.439560  \n",
       "3  [Istanbul, Copenhagen, Uzhhorod, Debrecen, Con...    0.920    0.400278  \n",
       "4  [Varna, Satu Mare, Brno, Petrozavodsk, Donetsk...    0.943    0.329097  "
      ]
     },
     "execution_count": 10,
     "metadata": {},
     "output_type": "execute_result"
    }
   ],
   "source": [
    "queries_df[\"gini_index\"] = queries_df[\"random_baseline\"].apply(gini_index)\n",
    "print(f\"Average gini for random baseline: {queries_df['gini_index'].mean()} \")\n",
    "queries_df[[\"query_v\", \"random_baseline\", \"entropy\", \"gini_index\" ]].head()"
   ]
  },
  {
   "cell_type": "code",
   "execution_count": 16,
   "id": "6cb3f2ba-1912-4bb7-a422-8b17bd704a56",
   "metadata": {},
   "outputs": [
    {
     "name": "stdout",
     "output_type": "stream",
     "text": [
      "Average relevance for random baseline: 0.5938888888888889 \n",
      "\n",
      " \n"
     ]
    }
   ],
   "source": [
    "queries_df['relevance'] = queries_df.apply(\n",
    "    lambda row: get_city_relevance_score(response=row[\"random_baseline\"], query=row[\"query_v\"],\n",
    "                                         is_baseline=True),\n",
    "    axis=1\n",
    ")\n",
    "print(f\"Average relevance for random baseline: {queries_df['relevance'].mean()} \\n\\n \")\n"
   ]
  },
  {
   "cell_type": "code",
   "execution_count": 14,
   "id": "9f4f73bb-051c-4f16-a004-dcadf5bc2a51",
   "metadata": {},
   "outputs": [
    {
     "data": {
      "text/plain": [
       "(2.967, 0.9)"
      ]
     },
     "execution_count": 14,
     "metadata": {},
     "output_type": "execute_result"
    }
   ],
   "source": [
    "compute_normalized_entropy(queries_df[\"random_baseline\"][0])"
   ]
  },
  {
   "cell_type": "code",
   "execution_count": null,
   "id": "e985c207-f026-4969-aada-f38e98c37537",
   "metadata": {},
   "outputs": [],
   "source": []
  }
 ],
 "metadata": {
  "kernelspec": {
   "display_name": ".crs-venv",
   "language": "python",
   "name": ".crs-venv"
  },
  "language_info": {
   "codemirror_mode": {
    "name": "ipython",
    "version": 3
   },
   "file_extension": ".py",
   "mimetype": "text/x-python",
   "name": "python",
   "nbconvert_exporter": "python",
   "pygments_lexer": "ipython3",
   "version": "3.10.15"
  }
 },
 "nbformat": 4,
 "nbformat_minor": 5
}
