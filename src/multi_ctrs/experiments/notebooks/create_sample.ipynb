{
 "cells": [
  {
   "cell_type": "code",
   "execution_count": 2,
   "metadata": {},
   "outputs": [],
   "source": [
    "import pandas as pd \n",
    "import numpy as np \n",
    "import os "
   ]
  },
  {
   "cell_type": "code",
   "execution_count": 3,
   "metadata": {},
   "outputs": [],
   "source": [
    "path = \"../../../../data/conv-trs/llm-results/Llama3Point2Vision90B_generated_parsed_queries.json\"\n",
    "df = pd.read_json(path)"
   ]
  },
  {
   "cell_type": "code",
   "execution_count": 4,
   "metadata": {},
   "outputs": [
    {
     "data": {
      "text/html": [
       "<div>\n",
       "<style scoped>\n",
       "    .dataframe tbody tr th:only-of-type {\n",
       "        vertical-align: middle;\n",
       "    }\n",
       "\n",
       "    .dataframe tbody tr th {\n",
       "        vertical-align: top;\n",
       "    }\n",
       "\n",
       "    .dataframe thead th {\n",
       "        text-align: right;\n",
       "    }\n",
       "</style>\n",
       "<table border=\"1\" class=\"dataframe\">\n",
       "  <thead>\n",
       "    <tr style=\"text-align: right;\">\n",
       "      <th></th>\n",
       "      <th>config_id</th>\n",
       "      <th>config</th>\n",
       "      <th>context</th>\n",
       "      <th>city</th>\n",
       "      <th>query_v</th>\n",
       "      <th>query_p0</th>\n",
       "      <th>query_p1</th>\n",
       "    </tr>\n",
       "  </thead>\n",
       "  <tbody>\n",
       "    <tr>\n",
       "      <th>0</th>\n",
       "      <td>c_p_0_pop_low_easy</td>\n",
       "      <td>{'p_id': 'p_0', 'persona': 'A top-scoring play...</td>\n",
       "      <td>Adana has low popularity. Adana has low season...</td>\n",
       "      <td>[Adana, Adiyaman, Agri, Arad, Arkhangelsk, Bac...</td>\n",
       "      <td>\"Less crowded European cities to visit in Febr...</td>\n",
       "      <td>\"European cities with ice hockey facilities, l...</td>\n",
       "      <td>Which European cities have ice hockey arenas a...</td>\n",
       "    </tr>\n",
       "    <tr>\n",
       "      <th>1</th>\n",
       "      <td>c_p_0_pop_low_medium</td>\n",
       "      <td>{'p_id': 'p_0', 'persona': 'A top-scoring play...</td>\n",
       "      <td>Sivas has low popularity and low budget. In Si...</td>\n",
       "      <td>[Sivas, Rivne, Konya, Craiova, Adana]</td>\n",
       "      <td>\"Low budget European city breaks with old tree...</td>\n",
       "      <td>\"European cities with low budget options and o...</td>\n",
       "      <td>Which European cities have ice hockey arenas a...</td>\n",
       "    </tr>\n",
       "    <tr>\n",
       "      <th>2</th>\n",
       "      <td>c_p_0_pop_low_hard</td>\n",
       "      <td>{'p_id': 'p_0', 'persona': 'A top-scoring play...</td>\n",
       "      <td>Syktyvkar has low popularity and high budget. ...</td>\n",
       "      <td>[Syktyvkar, Malatya, Kars, Ioannina]</td>\n",
       "      <td>\"Unconventional European destinations with mus...</td>\n",
       "      <td>\"European cities with low popularity, high bud...</td>\n",
       "      <td>Which European cities have ice hockey arenas a...</td>\n",
       "    </tr>\n",
       "    <tr>\n",
       "      <th>3</th>\n",
       "      <td>c_p_0_pop_low_sustainable</td>\n",
       "      <td>{'p_id': 'p_0', 'persona': 'A top-scoring play...</td>\n",
       "      <td>Craiova has low popularity , low budget, and g...</td>\n",
       "      <td>[Craiova, Gaziantep]</td>\n",
       "      <td>\"Low budget destinations in Europe with good a...</td>\n",
       "      <td>\"Low budget European cities with great air qua...</td>\n",
       "      <td>Which European cities have ice hockey arenas a...</td>\n",
       "    </tr>\n",
       "    <tr>\n",
       "      <th>4</th>\n",
       "      <td>c_p_0_pop_medium_easy</td>\n",
       "      <td>{'p_id': 'p_0', 'persona': 'A top-scoring play...</td>\n",
       "      <td>Aalborg has medium popularity. Aalborg has low...</td>\n",
       "      <td>[Aalborg, Ancona, Astrakhan, Bari, Belgorod, B...</td>\n",
       "      <td>\"Medium-sized European cities to visit in Janu...</td>\n",
       "      <td>\"European cities with ice hockey facilities, m...</td>\n",
       "      <td>Which European cities have ice hockey arenas a...</td>\n",
       "    </tr>\n",
       "  </tbody>\n",
       "</table>\n",
       "</div>"
      ],
      "text/plain": [
       "                   config_id  \\\n",
       "0         c_p_0_pop_low_easy   \n",
       "1       c_p_0_pop_low_medium   \n",
       "2         c_p_0_pop_low_hard   \n",
       "3  c_p_0_pop_low_sustainable   \n",
       "4      c_p_0_pop_medium_easy   \n",
       "\n",
       "                                              config  \\\n",
       "0  {'p_id': 'p_0', 'persona': 'A top-scoring play...   \n",
       "1  {'p_id': 'p_0', 'persona': 'A top-scoring play...   \n",
       "2  {'p_id': 'p_0', 'persona': 'A top-scoring play...   \n",
       "3  {'p_id': 'p_0', 'persona': 'A top-scoring play...   \n",
       "4  {'p_id': 'p_0', 'persona': 'A top-scoring play...   \n",
       "\n",
       "                                             context  \\\n",
       "0  Adana has low popularity. Adana has low season...   \n",
       "1  Sivas has low popularity and low budget. In Si...   \n",
       "2  Syktyvkar has low popularity and high budget. ...   \n",
       "3  Craiova has low popularity , low budget, and g...   \n",
       "4  Aalborg has medium popularity. Aalborg has low...   \n",
       "\n",
       "                                                city  \\\n",
       "0  [Adana, Adiyaman, Agri, Arad, Arkhangelsk, Bac...   \n",
       "1              [Sivas, Rivne, Konya, Craiova, Adana]   \n",
       "2               [Syktyvkar, Malatya, Kars, Ioannina]   \n",
       "3                               [Craiova, Gaziantep]   \n",
       "4  [Aalborg, Ancona, Astrakhan, Bari, Belgorod, B...   \n",
       "\n",
       "                                             query_v  \\\n",
       "0  \"Less crowded European cities to visit in Febr...   \n",
       "1  \"Low budget European city breaks with old tree...   \n",
       "2  \"Unconventional European destinations with mus...   \n",
       "3  \"Low budget destinations in Europe with good a...   \n",
       "4  \"Medium-sized European cities to visit in Janu...   \n",
       "\n",
       "                                            query_p0  \\\n",
       "0  \"European cities with ice hockey facilities, l...   \n",
       "1  \"European cities with low budget options and o...   \n",
       "2  \"European cities with low popularity, high bud...   \n",
       "3  \"Low budget European cities with great air qua...   \n",
       "4  \"European cities with ice hockey facilities, m...   \n",
       "\n",
       "                                            query_p1  \n",
       "0  Which European cities have ice hockey arenas a...  \n",
       "1  Which European cities have ice hockey arenas a...  \n",
       "2  Which European cities have ice hockey arenas a...  \n",
       "3  Which European cities have ice hockey arenas a...  \n",
       "4  Which European cities have ice hockey arenas a...  "
      ]
     },
     "execution_count": 4,
     "metadata": {},
     "output_type": "execute_result"
    }
   ],
   "source": [
    "df.head()"
   ]
  },
  {
   "cell_type": "code",
   "execution_count": 5,
   "metadata": {},
   "outputs": [],
   "source": [
    "def get_interest(config):\n",
    "    return config if \"interests\" in config[\"filters\"].keys() else None\n",
    "\n",
    "configs = df['config'].apply(get_interest)"
   ]
  },
  {
   "cell_type": "code",
   "execution_count": 6,
   "metadata": {},
   "outputs": [],
   "source": [
    "int_df = df[df['config'].isin(configs.tolist())]"
   ]
  },
  {
   "cell_type": "code",
   "execution_count": 7,
   "metadata": {},
   "outputs": [],
   "source": [
    "def filter_easy(config_id):\n",
    "    return None if \"easy\" in config_id else config_id \n",
    "\n",
    "non_easy_queries = int_df['config_id'].apply(filter_easy)\n",
    "non_easy_df = int_df[int_df['config_id'].isin(non_easy_queries)]"
   ]
  },
  {
   "cell_type": "code",
   "execution_count": 8,
   "metadata": {},
   "outputs": [
    {
     "name": "stdout",
     "output_type": "stream",
     "text": [
      "<class 'pandas.core.frame.DataFrame'>\n",
      "Index: 1334 entries, 1 to 2301\n",
      "Data columns (total 7 columns):\n",
      " #   Column     Non-Null Count  Dtype \n",
      "---  ------     --------------  ----- \n",
      " 0   config_id  1334 non-null   object\n",
      " 1   config     1334 non-null   object\n",
      " 2   context    1334 non-null   object\n",
      " 3   city       1334 non-null   object\n",
      " 4   query_v    1334 non-null   object\n",
      " 5   query_p0   1334 non-null   object\n",
      " 6   query_p1   1334 non-null   object\n",
      "dtypes: object(7)\n",
      "memory usage: 83.4+ KB\n"
     ]
    }
   ],
   "source": [
    "non_easy_df.info()"
   ]
  },
  {
   "cell_type": "code",
   "execution_count": 9,
   "metadata": {},
   "outputs": [],
   "source": [
    "def retrieved_cities_10(city_list):\n",
    "    return city_list if len(city_list) >= 10 else None \n",
    "\n",
    "final_queries = non_easy_df['city'].apply(retrieved_cities_10)\n",
    "final_df = non_easy_df[non_easy_df['city'].isin(final_queries)]"
   ]
  },
  {
   "cell_type": "code",
   "execution_count": 10,
   "metadata": {},
   "outputs": [
    {
     "name": "stdout",
     "output_type": "stream",
     "text": [
      "<class 'pandas.core.frame.DataFrame'>\n",
      "Index: 626 entries, 9 to 2300\n",
      "Data columns (total 7 columns):\n",
      " #   Column     Non-Null Count  Dtype \n",
      "---  ------     --------------  ----- \n",
      " 0   config_id  626 non-null    object\n",
      " 1   config     626 non-null    object\n",
      " 2   context    626 non-null    object\n",
      " 3   city       626 non-null    object\n",
      " 4   query_v    626 non-null    object\n",
      " 5   query_p0   626 non-null    object\n",
      " 6   query_p1   626 non-null    object\n",
      "dtypes: object(7)\n",
      "memory usage: 39.1+ KB\n"
     ]
    }
   ],
   "source": [
    "final_df.info()"
   ]
  },
  {
   "cell_type": "code",
   "execution_count": 11,
   "metadata": {},
   "outputs": [
    {
     "name": "stderr",
     "output_type": "stream",
     "text": [
      "/var/folders/07/81pmlyln5szbq49h1zdqjq1h0000gn/T/ipykernel_42995/3246480299.py:5: SettingWithCopyWarning: \n",
      "A value is trying to be set on a copy of a slice from a DataFrame.\n",
      "Try using .loc[row_indexer,col_indexer] = value instead\n",
      "\n",
      "See the caveats in the documentation: https://pandas.pydata.org/pandas-docs/stable/user_guide/indexing.html#returning-a-view-versus-a-copy\n",
      "  final_df['pop_level'] = final_df['config_id'].apply(find_level_pop)\n"
     ]
    }
   ],
   "source": [
    "def find_level_pop(config_id):\n",
    "    pop_level = config_id.split(\"_\")[4:]\n",
    "    return \"_\".join(pop_level)\n",
    "\n",
    "final_df['pop_level'] = final_df['config_id'].apply(find_level_pop)"
   ]
  },
  {
   "cell_type": "code",
   "execution_count": 13,
   "metadata": {},
   "outputs": [
    {
     "data": {
      "text/plain": [
       "pop_level\n",
       "[high, hard]             111\n",
       "[high, medium]           101\n",
       "[medium, medium]         100\n",
       "[medium, hard]            97\n",
       "[high, sustainable]       81\n",
       "[medium, sustainable]     67\n",
       "[low, medium]             55\n",
       "[low, sustainable]        14\n",
       "Name: count, dtype: int64"
      ]
     },
     "execution_count": 13,
     "metadata": {},
     "output_type": "execute_result"
    }
   ],
   "source": [
    "final_df['pop_level'].value_counts()"
   ]
  },
  {
   "cell_type": "code",
   "execution_count": 15,
   "metadata": {},
   "outputs": [
    {
     "name": "stderr",
     "output_type": "stream",
     "text": [
      "/var/folders/07/81pmlyln5szbq49h1zdqjq1h0000gn/T/ipykernel_42995/554045634.py:1: SettingWithCopyWarning: \n",
      "A value is trying to be set on a copy of a slice from a DataFrame.\n",
      "Try using .loc[row_indexer,col_indexer] = value instead\n",
      "\n",
      "See the caveats in the documentation: https://pandas.pydata.org/pandas-docs/stable/user_guide/indexing.html#returning-a-view-versus-a-copy\n",
      "  final_df['pop_level'] = final_df['pop_level'].astype(str)\n"
     ]
    }
   ],
   "source": [
    "final_df['pop_level'] = final_df['pop_level'].astype(str)"
   ]
  },
  {
   "cell_type": "code",
   "execution_count": 17,
   "metadata": {},
   "outputs": [
    {
     "name": "stderr",
     "output_type": "stream",
     "text": [
      "/var/folders/07/81pmlyln5szbq49h1zdqjq1h0000gn/T/ipykernel_42995/1330734960.py:1: DeprecationWarning: DataFrameGroupBy.apply operated on the grouping columns. This behavior is deprecated, and in a future version of pandas the grouping columns will be excluded from the operation. Either pass `include_groups=False` to exclude the groupings or explicitly select the grouping columns after groupby to silence this warning.\n",
      "  sampled = final_df.groupby('pop_level', group_keys=False).apply(lambda x: x.sample(5))\n"
     ]
    }
   ],
   "source": [
    "sampled = final_df.groupby('pop_level', group_keys=False).apply(lambda x: x.sample(5, random_state=42))"
   ]
  },
  {
   "cell_type": "code",
   "execution_count": 18,
   "metadata": {},
   "outputs": [
    {
     "name": "stdout",
     "output_type": "stream",
     "text": [
      "<class 'pandas.core.frame.DataFrame'>\n",
      "Index: 40 entries, 1556 to 630\n",
      "Data columns (total 8 columns):\n",
      " #   Column     Non-Null Count  Dtype \n",
      "---  ------     --------------  ----- \n",
      " 0   config_id  40 non-null     object\n",
      " 1   config     40 non-null     object\n",
      " 2   context    40 non-null     object\n",
      " 3   city       40 non-null     object\n",
      " 4   query_v    40 non-null     object\n",
      " 5   query_p0   40 non-null     object\n",
      " 6   query_p1   40 non-null     object\n",
      " 7   pop_level  40 non-null     object\n",
      "dtypes: object(8)\n",
      "memory usage: 2.8+ KB\n"
     ]
    }
   ],
   "source": [
    "sampled.info()"
   ]
  },
  {
   "cell_type": "code",
   "execution_count": 29,
   "metadata": {},
   "outputs": [],
   "source": [
    "sus_low_ids = sampled[sampled['pop_level'] == \"['low', 'sustainable']\"]['config_id'].tolist()"
   ]
  },
  {
   "cell_type": "code",
   "execution_count": 30,
   "metadata": {},
   "outputs": [
    {
     "data": {
      "text/html": [
       "<div>\n",
       "<style scoped>\n",
       "    .dataframe tbody tr th:only-of-type {\n",
       "        vertical-align: middle;\n",
       "    }\n",
       "\n",
       "    .dataframe tbody tr th {\n",
       "        vertical-align: top;\n",
       "    }\n",
       "\n",
       "    .dataframe thead th {\n",
       "        text-align: right;\n",
       "    }\n",
       "</style>\n",
       "<table border=\"1\" class=\"dataframe\">\n",
       "  <thead>\n",
       "    <tr style=\"text-align: right;\">\n",
       "      <th></th>\n",
       "      <th>config_id</th>\n",
       "      <th>config</th>\n",
       "      <th>context</th>\n",
       "      <th>city</th>\n",
       "      <th>query_v</th>\n",
       "      <th>query_p0</th>\n",
       "      <th>query_p1</th>\n",
       "      <th>pop_level</th>\n",
       "    </tr>\n",
       "  </thead>\n",
       "  <tbody>\n",
       "    <tr>\n",
       "      <th>512</th>\n",
       "      <td>c_p_44_pop_low_sustainable</td>\n",
       "      <td>{'p_id': 'p_44', 'persona': 'A commercial loan...</td>\n",
       "      <td>Vladikavkaz has low popularity. Vladikavkaz ha...</td>\n",
       "      <td>[Vladikavkaz, Vitoria-Gasteiz, Trabzon, Thessa...</td>\n",
       "      <td>\"Off the beaten path destinations in Europe wi...</td>\n",
       "      <td>\"European city breaks in December with low tou...</td>\n",
       "      <td>Which European cities offer a blend of financi...</td>\n",
       "      <td>['low', 'sustainable']</td>\n",
       "    </tr>\n",
       "    <tr>\n",
       "      <th>1456</th>\n",
       "      <td>c_p_126_pop_low_sustainable</td>\n",
       "      <td>{'p_id': 'p_126', 'persona': 'A kindergarten t...</td>\n",
       "      <td>Van has low popularity. Van has low season in ...</td>\n",
       "      <td>[Van, Uzhhorod, Trabzon, Thessaloniki, Sivas, ...</td>\n",
       "      <td>Looking for a low-budget, off-the-beaten-path ...</td>\n",
       "      <td>\"European city breaks with low season in Janua...</td>\n",
       "      <td>Which European cities have interactive museums...</td>\n",
       "      <td>['low', 'sustainable']</td>\n",
       "    </tr>\n",
       "    <tr>\n",
       "      <th>626</th>\n",
       "      <td>c_p_54_pop_low_sustainable</td>\n",
       "      <td>{'p_id': 'p_54', 'persona': 'A wanderlust-fill...</td>\n",
       "      <td>Vladikavkaz has low popularity. Vladikavkaz ha...</td>\n",
       "      <td>[Vladikavkaz, Vitoria-Gasteiz, Uzhhorod, Trabz...</td>\n",
       "      <td>I'm ready to generate a query for the travel r...</td>\n",
       "      <td>\"European cities with low tourist season in No...</td>\n",
       "      <td>Which European cities are known for their loca...</td>\n",
       "      <td>['low', 'sustainable']</td>\n",
       "    </tr>\n",
       "    <tr>\n",
       "      <th>361</th>\n",
       "      <td>c_p_31_pop_low_sustainable</td>\n",
       "      <td>{'p_id': 'p_31', 'persona': 'A novice cryptocu...</td>\n",
       "      <td>Vladikavkaz has low popularity. Vladikavkaz ha...</td>\n",
       "      <td>[Vladikavkaz, Uzhhorod, Trabzon, Sivas, Samsun...</td>\n",
       "      <td>\"Less crowded European cities to visit in Nove...</td>\n",
       "      <td>\"Off the beaten path European destinations for...</td>\n",
       "      <td>Which European cities are easy to navigate for...</td>\n",
       "      <td>['low', 'sustainable']</td>\n",
       "    </tr>\n",
       "    <tr>\n",
       "      <th>604</th>\n",
       "      <td>c_p_52_pop_low_sustainable</td>\n",
       "      <td>{'p_id': 'p_52', 'persona': 'Chinese historian...</td>\n",
       "      <td>Thessaloniki has low popularity and great walk...</td>\n",
       "      <td>[Thessaloniki, Syktyvkar, Rivne, Malatya, Kony...</td>\n",
       "      <td>Looking for a less crowded European city with ...</td>\n",
       "      <td>\"European cities with low popularity and great...</td>\n",
       "      <td>Which European cities have well-preserved anci...</td>\n",
       "      <td>['low', 'sustainable']</td>\n",
       "    </tr>\n",
       "  </tbody>\n",
       "</table>\n",
       "</div>"
      ],
      "text/plain": [
       "                        config_id  \\\n",
       "512    c_p_44_pop_low_sustainable   \n",
       "1456  c_p_126_pop_low_sustainable   \n",
       "626    c_p_54_pop_low_sustainable   \n",
       "361    c_p_31_pop_low_sustainable   \n",
       "604    c_p_52_pop_low_sustainable   \n",
       "\n",
       "                                                 config  \\\n",
       "512   {'p_id': 'p_44', 'persona': 'A commercial loan...   \n",
       "1456  {'p_id': 'p_126', 'persona': 'A kindergarten t...   \n",
       "626   {'p_id': 'p_54', 'persona': 'A wanderlust-fill...   \n",
       "361   {'p_id': 'p_31', 'persona': 'A novice cryptocu...   \n",
       "604   {'p_id': 'p_52', 'persona': 'Chinese historian...   \n",
       "\n",
       "                                                context  \\\n",
       "512   Vladikavkaz has low popularity. Vladikavkaz ha...   \n",
       "1456  Van has low popularity. Van has low season in ...   \n",
       "626   Vladikavkaz has low popularity. Vladikavkaz ha...   \n",
       "361   Vladikavkaz has low popularity. Vladikavkaz ha...   \n",
       "604   Thessaloniki has low popularity and great walk...   \n",
       "\n",
       "                                                   city  \\\n",
       "512   [Vladikavkaz, Vitoria-Gasteiz, Trabzon, Thessa...   \n",
       "1456  [Van, Uzhhorod, Trabzon, Thessaloniki, Sivas, ...   \n",
       "626   [Vladikavkaz, Vitoria-Gasteiz, Uzhhorod, Trabz...   \n",
       "361   [Vladikavkaz, Uzhhorod, Trabzon, Sivas, Samsun...   \n",
       "604   [Thessaloniki, Syktyvkar, Rivne, Malatya, Kony...   \n",
       "\n",
       "                                                query_v  \\\n",
       "512   \"Off the beaten path destinations in Europe wi...   \n",
       "1456  Looking for a low-budget, off-the-beaten-path ...   \n",
       "626   I'm ready to generate a query for the travel r...   \n",
       "361   \"Less crowded European cities to visit in Nove...   \n",
       "604   Looking for a less crowded European city with ...   \n",
       "\n",
       "                                               query_p0  \\\n",
       "512   \"European city breaks in December with low tou...   \n",
       "1456  \"European city breaks with low season in Janua...   \n",
       "626   \"European cities with low tourist season in No...   \n",
       "361   \"Off the beaten path European destinations for...   \n",
       "604   \"European cities with low popularity and great...   \n",
       "\n",
       "                                               query_p1  \\\n",
       "512   Which European cities offer a blend of financi...   \n",
       "1456  Which European cities have interactive museums...   \n",
       "626   Which European cities are known for their loca...   \n",
       "361   Which European cities are easy to navigate for...   \n",
       "604   Which European cities have well-preserved anci...   \n",
       "\n",
       "                   pop_level  \n",
       "512   ['low', 'sustainable']  \n",
       "1456  ['low', 'sustainable']  \n",
       "626   ['low', 'sustainable']  \n",
       "361   ['low', 'sustainable']  \n",
       "604   ['low', 'sustainable']  "
      ]
     },
     "execution_count": 30,
     "metadata": {},
     "output_type": "execute_result"
    }
   ],
   "source": [
    "extra = final_df[(final_df['pop_level'] == \"['low', 'sustainable']\") & (~final_df['config_id'].isin(sus_low_ids))].sample(5, random_state=42)\n",
    "extra.head()"
   ]
  },
  {
   "cell_type": "code",
   "execution_count": 31,
   "metadata": {},
   "outputs": [],
   "source": [
    "sample = pd.concat([sampled, extra])"
   ]
  },
  {
   "cell_type": "code",
   "execution_count": 32,
   "metadata": {},
   "outputs": [
    {
     "name": "stdout",
     "output_type": "stream",
     "text": [
      "<class 'pandas.core.frame.DataFrame'>\n",
      "Index: 45 entries, 1556 to 604\n",
      "Data columns (total 8 columns):\n",
      " #   Column     Non-Null Count  Dtype \n",
      "---  ------     --------------  ----- \n",
      " 0   config_id  45 non-null     object\n",
      " 1   config     45 non-null     object\n",
      " 2   context    45 non-null     object\n",
      " 3   city       45 non-null     object\n",
      " 4   query_v    45 non-null     object\n",
      " 5   query_p0   45 non-null     object\n",
      " 6   query_p1   45 non-null     object\n",
      " 7   pop_level  45 non-null     object\n",
      "dtypes: object(8)\n",
      "memory usage: 3.2+ KB\n"
     ]
    }
   ],
   "source": [
    "sample.info()"
   ]
  },
  {
   "cell_type": "code",
   "execution_count": null,
   "metadata": {},
   "outputs": [],
   "source": [
    "8 different combinations - 1 each for sample run (no low-hard so it is replaced with low-sustainable instead)"
   ]
  },
  {
   "cell_type": "code",
   "execution_count": 25,
   "metadata": {},
   "outputs": [],
   "source": [
    "import pandas as pd\n",
    "import ast"
   ]
  },
  {
   "cell_type": "code",
   "execution_count": 7,
   "metadata": {},
   "outputs": [],
   "source": [
    "samples_df = pd.read_csv(\"./data/conv-trs/multi-agent/sample-data/llama3point2_sample.csv\")"
   ]
  },
  {
   "cell_type": "code",
   "execution_count": 32,
   "metadata": {},
   "outputs": [],
   "source": [
    "sample = \"c_p_5_pop_high_hard\"\n",
    "query_id = sample\n",
    "query = samples_df.loc[samples_df.config_id == query_id, \"query_v\"].values[0]\n",
    "travel_filters = ast.literal_eval(samples_df.loc[samples_df.config_id == query_id, \"config\"].values[0])[\"filters\"]\n",
    "city = samples_df.loc[samples_df.config_id == query_id, \"city\"].values[0]"
   ]
  },
  {
   "cell_type": "code",
   "execution_count": 30,
   "metadata": {},
   "outputs": [],
   "source": [
    "offers = [\n",
    "                \"Paris\",\n",
    "                \"Vienna\",\n",
    "                \"Rome\",\n",
    "                \"Barcelona\",\n",
    "                \"Munich\",\n",
    "                \"Geneva\",\n",
    "                \"Amsterdam\",\n",
    "                \"London\",\n",
    "                \"Zurich\",\n",
    "                \"Innsbruck\"\n",
    "            ]"
   ]
  },
  {
   "cell_type": "code",
   "execution_count": 34,
   "metadata": {},
   "outputs": [
    {
     "data": {
      "text/plain": [
       "['Paris', 'Barcelona', 'Munich', 'Geneva', 'Amsterdam', 'London', 'Zurich']"
      ]
     },
     "execution_count": 34,
     "metadata": {},
     "output_type": "execute_result"
    }
   ],
   "source": [
    "[o for o in offers if o in city]"
   ]
  },
  {
   "cell_type": "code",
   "execution_count": null,
   "metadata": {},
   "outputs": [],
   "source": []
  }
 ],
 "metadata": {
  "kernelspec": {
   "display_name": ".venv",
   "language": "python",
   "name": "python3"
  },
  "language_info": {
   "codemirror_mode": {
    "name": "ipython",
    "version": 3
   },
   "file_extension": ".py",
   "mimetype": "text/x-python",
   "name": "python",
   "nbconvert_exporter": "python",
   "pygments_lexer": "ipython3",
   "version": "3.13.3"
  }
 },
 "nbformat": 4,
 "nbformat_minor": 2
}
